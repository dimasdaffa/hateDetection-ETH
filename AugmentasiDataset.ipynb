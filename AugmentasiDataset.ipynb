{
 "cells": [
  {
   "cell_type": "code",
   "execution_count": 2,
   "metadata": {},
   "outputs": [
    {
     "name": "stdout",
     "output_type": "stream",
     "text": [
      "                                                text    label\n",
      "0   LIVE MAN UTD / WEST HAM PRESS CONFERENCES LIV...  no-hate\n",
      "1         @views09 We are not sacking Erik Ten hag\"\"  no-hate\n",
      "2  Breaking Manchester United sacked Erik Ten hag...  no-hate\n",
      "3  @MufcWonItAll2 I never want to see managers sa...  no-hate\n",
      "4  Erik Ten Hag reacts to West Ham defeat https:/...  no-hate\n"
     ]
    }
   ],
   "source": [
    "# Import library yang dibutuhkan\n",
    "import pandas as pd\n",
    "\n",
    "# **Langkah 1: Memuat Dataset**\n",
    "# Masukkan path file dataset utama dan dataset profanities\n",
    "main_dataset_path = r'C:\\Users\\Nino\\Documents\\hateDetection-ETH\\dataset\\Oversampled_Tweet_Dataset.csv'  # Ganti dengan lokasi file dataset utama\n",
    "profanity_dataset_path = r'C:\\Users\\Nino\\Documents\\hateDetection-ETH\\dataset\\profanity_en.csv'  # Ganti dengan lokasi file dataset profanities\n",
    "\n",
    "# Membaca dataset utama dan dataset profanities\n",
    "main_data = pd.read_csv(main_dataset_path)\n",
    "profanity_data = pd.read_csv(profanity_dataset_path)\n",
    "\n",
    "# **Langkah 2: Ekstraksi Kolom Relevan dari Dataset Profanities**\n",
    "# Mengambil daftar kata-kata kasar dari kolom `text` pada dataset profanities\n",
    "profanity_list = profanity_data['text'].dropna().tolist()\n",
    "\n",
    "# **Langkah 3: Membuat Data Sintetis**\n",
    "# Menggunakan daftar kata-kata kasar untuk membuat contoh teks baru,\n",
    "# setiap teks dilabeli dengan \"hate\"\n",
    "synthetic_data = [{\"text\": f\"You are such a {word}!\", \"label\": \"hate\"} for word in profanity_list]\n",
    "\n",
    "# Mengonversi data sintetis ke DataFrame\n",
    "synthetic_data_df = pd.DataFrame(synthetic_data)\n",
    "\n",
    "# **Langkah 4: Menggabungkan Dataset**\n",
    "# Menggabungkan dataset utama dengan data sintetis\n",
    "augmented_data = pd.concat([main_data, synthetic_data_df], ignore_index=True)\n",
    "\n",
    "# **Langkah 5: Menyimpan Dataset Hasil Augmentasi**\n",
    "# Menyimpan dataset hasil penggabungan ke file CSV baru\n",
    "augmented_data.to_csv(r'C:\\Users\\Nino\\Documents\\hateDetection-ETH\\dataset\\augmented_dataset_with_profanities.csv', index=False)\n",
    "\n",
    "# Menampilkan beberapa baris pertama dari dataset hasil augmentasi\n",
    "print(augmented_data.head())\n"
   ]
  },
  {
   "cell_type": "code",
   "execution_count": null,
   "metadata": {},
   "outputs": [],
   "source": []
  }
 ],
 "metadata": {
  "kernelspec": {
   "display_name": "Python 3",
   "language": "python",
   "name": "python3"
  },
  "language_info": {
   "codemirror_mode": {
    "name": "ipython",
    "version": 3
   },
   "file_extension": ".py",
   "mimetype": "text/x-python",
   "name": "python",
   "nbconvert_exporter": "python",
   "pygments_lexer": "ipython3",
   "version": "3.11.9"
  }
 },
 "nbformat": 4,
 "nbformat_minor": 2
}
