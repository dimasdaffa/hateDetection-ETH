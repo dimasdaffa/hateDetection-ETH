{
 "cells": [
  {
   "cell_type": "markdown",
   "id": "bc020699",
   "metadata": {
    "papermill": {
     "duration": 0.076026,
     "end_time": "2021-08-24T16:50:25.797269",
     "exception": false,
     "start_time": "2021-08-24T16:50:25.721243",
     "status": "completed"
    },
    "tags": []
   },
   "source": [
    "## _Natural Language Processing_ \n",
    "### _Help Twitter Combat Hate Speech Using NLP and Machine Learning_\n",
    "***\n",
    "<b>DESCRIPTION</b>\n",
    "\n",
    "Using NLP and ML, make a model to identify hate speech in Twitter.\n",
    "\n",
    "<b>Problem Statement:</b>\n",
    "***\n",
    "\n",
    "Twitter is the biggest platform where anybody and everybody can have their views heard. Some of these voices spread hate and negativity. Twitter is wary of its platform being used as a medium  to spread hate. \n",
    "\n",
    "You are a data scientist at Twitter, and you will help Twitter in identifying the tweets with hate speech and removing them from the platform. You will use NLP techniques, perform specific cleanup for tweets data, and make a robust model.\n",
    "\n",
    "Domain: Social Media\n",
    "\n",
    "<b>Analysis to be done:</b> Clean up tweets and build a classification model by using NLP techniques, cleanup specific for tweets data, regularization and hyperparameter tuning using stratified k-fold and cross validation to get the best model.\n",
    "\n",
    "<b>Content: </b>\n",
    "\n",
    "id: identifier number of the tweet\n",
    "\n",
    "Label: (non-hate) / (hate)\n",
    "\n",
    "Tweet: the text in the tweet\n",
    "***\n",
    "\n",
    "<b>Tasks: </b>\n",
    "\n",
    "Load the tweets file using read_csv function from Pandas package. \n",
    "\n",
    "Get the tweets into a list for easy text cleanup and manipulation.\n",
    "\n",
    "<b>To cleanup: </b>\n",
    "\n",
    "- Normalize the casing.\n",
    "- Using regular expressions, remove user handles. These begin with '@’.\n",
    "- Using regular expressions, remove URLs.\n",
    "- Using TweetTokenizer from NLTK, tokenize the tweets into individual terms.\n",
    "- Remove stop words.\n",
    "- Remove redundant terms like ‘amp’, ‘rt’, etc.\n",
    "- Remove ‘#’ symbols from the tweet while retaining the term.\n",
    "- Extra cleanup by removing terms with a length of 1.\n"
   ]
  },
  {
   "cell_type": "markdown",
   "id": "b3e769cc",
   "metadata": {
    "papermill": {
     "duration": 0.070088,
     "end_time": "2021-08-24T16:50:26.087829",
     "exception": false,
     "start_time": "2021-08-24T16:50:26.017741",
     "status": "completed"
    },
    "tags": []
   },
   "source": [
    "<a id='1'></a>\n",
    "## _Import Libraries and Load Data_"
   ]
  },
  {
   "cell_type": "code",
   "execution_count": 1,
   "id": "ebabf41d",
   "metadata": {
    "execution": {
     "iopub.execute_input": "2021-08-24T16:50:26.232943Z",
     "iopub.status.busy": "2021-08-24T16:50:26.231801Z",
     "iopub.status.idle": "2021-08-24T16:50:28.106370Z",
     "shell.execute_reply": "2021-08-24T16:50:28.105573Z",
     "shell.execute_reply.started": "2021-08-24T16:46:56.531931Z"
    },
    "papermill": {
     "duration": 1.948799,
     "end_time": "2021-08-24T16:50:28.106535",
     "exception": false,
     "start_time": "2021-08-24T16:50:26.157736",
     "status": "completed"
    },
    "tags": []
   },
   "outputs": [
    {
     "name": "stderr",
     "output_type": "stream",
     "text": [
      "\n",
      "[notice] A new release of pip is available: 24.0 -> 24.3.1\n",
      "[notice] To update, run: C:\\Users\\Nino\\AppData\\Local\\Microsoft\\WindowsApps\\PythonSoftwareFoundation.Python.3.11_qbz5n2kfra8p0\\python.exe -m pip install --upgrade pip\n"
     ]
    },
    {
     "name": "stdout",
     "output_type": "stream",
     "text": [
      "Requirement already satisfied: nltk in c:\\users\\nino\\appdata\\local\\packages\\pythonsoftwarefoundation.python.3.11_qbz5n2kfra8p0\\localcache\\local-packages\\python311\\site-packages (3.9.1)\n",
      "Requirement already satisfied: click in c:\\users\\nino\\appdata\\local\\packages\\pythonsoftwarefoundation.python.3.11_qbz5n2kfra8p0\\localcache\\local-packages\\python311\\site-packages (from nltk) (8.1.8)\n",
      "Requirement already satisfied: joblib in c:\\users\\nino\\appdata\\local\\packages\\pythonsoftwarefoundation.python.3.11_qbz5n2kfra8p0\\localcache\\local-packages\\python311\\site-packages (from nltk) (1.4.2)\n",
      "Requirement already satisfied: regex>=2021.8.3 in c:\\users\\nino\\appdata\\local\\packages\\pythonsoftwarefoundation.python.3.11_qbz5n2kfra8p0\\localcache\\local-packages\\python311\\site-packages (from nltk) (2024.11.6)\n",
      "Requirement already satisfied: tqdm in c:\\users\\nino\\appdata\\local\\packages\\pythonsoftwarefoundation.python.3.11_qbz5n2kfra8p0\\localcache\\local-packages\\python311\\site-packages (from nltk) (4.67.1)\n",
      "Requirement already satisfied: colorama in c:\\users\\nino\\appdata\\local\\packages\\pythonsoftwarefoundation.python.3.11_qbz5n2kfra8p0\\localcache\\local-packages\\python311\\site-packages (from click->nltk) (0.4.6)\n",
      "Note: you may need to restart the kernel to use updated packages.\n"
     ]
    }
   ],
   "source": [
    "#general packages for data manipulation\n",
    "import os\n",
    "import pandas as pd\n",
    "import numpy as np\n",
    "#visualizations\n",
    "import matplotlib.pyplot as plt\n",
    "import seaborn as sns\n",
    "%matplotlib inline\n",
    "#consistent sized plot \n",
    "from pylab import rcParams\n",
    "rcParams['figure.figsize']=12,5\n",
    "rcParams['axes.labelsize']=12\n",
    "rcParams['xtick.labelsize']=12\n",
    "rcParams['ytick.labelsize']=12\n",
    "#handle the warnings in the code\n",
    "import warnings\n",
    "warnings.filterwarnings(action='ignore',category=DeprecationWarning)\n",
    "warnings.filterwarnings(action='ignore',category=FutureWarning)\n",
    "#text preprocessing libraries\n",
    "%pip install nltk\n",
    "import nltk\n",
    "from nltk.corpus import stopwords\n",
    "from nltk.tokenize import word_tokenize\n",
    "from nltk.tokenize import sent_tokenize\n",
    "from nltk.tokenize import WordPunctTokenizer\n",
    "from nltk.tokenize import TweetTokenizer\n",
    "from nltk.stem import WordNetLemmatizer\n",
    "from nltk.stem import PorterStemmer\n",
    "#import texthero\n",
    "#import texthero as hero\n",
    "#regular expressions\n",
    "import re\n",
    "#display pandas dataframe columns \n",
    "pd.options.display.max_columns = None"
   ]
  },
  {
   "cell_type": "code",
   "execution_count": 2,
   "id": "a4f934c0",
   "metadata": {
    "execution": {
     "iopub.execute_input": "2021-08-24T16:50:28.253157Z",
     "iopub.status.busy": "2021-08-24T16:50:28.252383Z",
     "iopub.status.idle": "2021-08-24T16:50:28.643908Z",
     "shell.execute_reply": "2021-08-24T16:50:28.644416Z",
     "shell.execute_reply.started": "2021-08-24T16:46:58.334444Z"
    },
    "papermill": {
     "duration": 0.467438,
     "end_time": "2021-08-24T16:50:28.644587",
     "exception": false,
     "start_time": "2021-08-24T16:50:28.177149",
     "status": "completed"
    },
    "tags": []
   },
   "outputs": [
    {
     "data": {
      "text/html": [
       "<div>\n",
       "<style scoped>\n",
       "    .dataframe tbody tr th:only-of-type {\n",
       "        vertical-align: middle;\n",
       "    }\n",
       "\n",
       "    .dataframe tbody tr th {\n",
       "        vertical-align: top;\n",
       "    }\n",
       "\n",
       "    .dataframe thead th {\n",
       "        text-align: right;\n",
       "    }\n",
       "</style>\n",
       "<table border=\"1\" class=\"dataframe\">\n",
       "  <thead>\n",
       "    <tr style=\"text-align: right;\">\n",
       "      <th></th>\n",
       "      <th>text</th>\n",
       "      <th>label</th>\n",
       "    </tr>\n",
       "  </thead>\n",
       "  <tbody>\n",
       "    <tr>\n",
       "      <th>0</th>\n",
       "      <td>Yes folks there was a time Manchester United g...</td>\n",
       "      <td>hate</td>\n",
       "    </tr>\n",
       "    <tr>\n",
       "      <th>1</th>\n",
       "      <td>What s INEOS waiting for? Erik ten Hag got to ...</td>\n",
       "      <td>no-hate</td>\n",
       "    </tr>\n",
       "    <tr>\n",
       "      <th>2</th>\n",
       "      <td>Saka is the type of player Erik Ten Hag needs ...</td>\n",
       "      <td>no-hate</td>\n",
       "    </tr>\n",
       "    <tr>\n",
       "      <th>3</th>\n",
       "      <td>@ScholesEvilTwin No Erik ten Hag. They are ste...</td>\n",
       "      <td>no-hate</td>\n",
       "    </tr>\n",
       "    <tr>\n",
       "      <th>4</th>\n",
       "      <td>@LukeShawArmy Erik Ten Hag London Stadium is n...</td>\n",
       "      <td>no-hate</td>\n",
       "    </tr>\n",
       "  </tbody>\n",
       "</table>\n",
       "</div>"
      ],
      "text/plain": [
       "                                                text    label\n",
       "0  Yes folks there was a time Manchester United g...     hate\n",
       "1  What s INEOS waiting for? Erik ten Hag got to ...  no-hate\n",
       "2  Saka is the type of player Erik Ten Hag needs ...  no-hate\n",
       "3  @ScholesEvilTwin No Erik ten Hag. They are ste...  no-hate\n",
       "4  @LukeShawArmy Erik Ten Hag London Stadium is n...  no-hate"
      ]
     },
     "execution_count": 2,
     "metadata": {},
     "output_type": "execute_result"
    }
   ],
   "source": [
    "#load the csv file as a pandas dataframe\n",
    "#ISO-8859-1\n",
    "tweet = pd.read_csv(r'C:\\Users\\Nino\\Documents\\hateDetection-ETH\\dataset\\augmented_dataset_with_profanities.csv',delimiter=',',engine='python',encoding='utf-8-sig')\n",
    "tweet.head()"
   ]
  },
  {
   "cell_type": "code",
   "execution_count": 3,
   "id": "6dd86f64",
   "metadata": {
    "execution": {
     "iopub.execute_input": "2021-08-24T16:50:28.944994Z",
     "iopub.status.busy": "2021-08-24T16:50:28.944347Z",
     "iopub.status.idle": "2021-08-24T16:50:28.952873Z",
     "shell.execute_reply": "2021-08-24T16:50:28.952340Z",
     "shell.execute_reply.started": "2021-08-24T16:46:58.660605Z"
    },
    "papermill": {
     "duration": 0.083744,
     "end_time": "2021-08-24T16:50:28.953009",
     "exception": false,
     "start_time": "2021-08-24T16:50:28.869265",
     "status": "completed"
    },
    "tags": []
   },
   "outputs": [
    {
     "name": "stdout",
     "output_type": "stream",
     "text": [
      "632\n"
     ]
    },
    {
     "data": {
      "text/plain": [
       "'Repost in solidarity for Erik Ten Hag.. Manchester United trust the process. https://t.co/nc7tGoV5ts\"\"'"
      ]
     },
     "execution_count": 3,
     "metadata": {},
     "output_type": "execute_result"
    }
   ],
   "source": [
    "#view one of the tweets randomly \n",
    "random = np.random.randint(0,len(tweet))\n",
    "print(random)\n",
    "tweet.iloc[random]['text']"
   ]
  },
  {
   "cell_type": "code",
   "execution_count": 4,
   "id": "96c4a1fe",
   "metadata": {
    "execution": {
     "iopub.execute_input": "2021-08-24T16:50:29.099209Z",
     "iopub.status.busy": "2021-08-24T16:50:29.098541Z",
     "iopub.status.idle": "2021-08-24T16:50:29.103043Z",
     "shell.execute_reply": "2021-08-24T16:50:29.103532Z",
     "shell.execute_reply.started": "2021-08-24T16:46:58.672864Z"
    },
    "papermill": {
     "duration": 0.079343,
     "end_time": "2021-08-24T16:50:29.103754",
     "exception": false,
     "start_time": "2021-08-24T16:50:29.024411",
     "status": "completed"
    },
    "tags": []
   },
   "outputs": [],
   "source": [
    "#create a copy of the original data to work with \n",
    "df = tweet.copy()"
   ]
  },
  {
   "cell_type": "markdown",
   "id": "1bb13ae5",
   "metadata": {
    "papermill": {
     "duration": 0.071889,
     "end_time": "2021-08-24T16:50:29.247115",
     "exception": false,
     "start_time": "2021-08-24T16:50:29.175226",
     "status": "completed"
    },
    "tags": []
   },
   "source": [
    "<a id='2'></a>\n",
    "## _Text Cleaning_"
   ]
  },
  {
   "cell_type": "markdown",
   "id": "25a42d97",
   "metadata": {
    "papermill": {
     "duration": 0.071195,
     "end_time": "2021-08-24T16:50:29.390199",
     "exception": false,
     "start_time": "2021-08-24T16:50:29.319004",
     "status": "completed"
    },
    "tags": []
   },
   "source": [
    "<a name='2-1'></a>\n",
    "### _Handle Diacritics using text normalization_"
   ]
  },
  {
   "cell_type": "code",
   "execution_count": 5,
   "id": "86e655c2",
   "metadata": {
    "execution": {
     "iopub.execute_input": "2021-08-24T16:50:29.535767Z",
     "iopub.status.busy": "2021-08-24T16:50:29.535079Z",
     "iopub.status.idle": "2021-08-24T16:50:29.540239Z",
     "shell.execute_reply": "2021-08-24T16:50:29.540819Z",
     "shell.execute_reply.started": "2021-08-24T16:46:58.681939Z"
    },
    "papermill": {
     "duration": 0.079718,
     "end_time": "2021-08-24T16:50:29.541009",
     "exception": false,
     "start_time": "2021-08-24T16:50:29.461291",
     "status": "completed"
    },
    "tags": []
   },
   "outputs": [],
   "source": [
    "def simplify(text):\n",
    "    '''Function to handle the diacritics in the text'''\n",
    "    import unicodedata\n",
    "    try:\n",
    "        text = unicode(text, 'utf-8')\n",
    "    except NameError:\n",
    "        pass\n",
    "    text = unicodedata.normalize('NFD', text).encode('ascii', 'ignore').decode(\"utf-8\")\n",
    "    return str(text)"
   ]
  },
  {
   "cell_type": "code",
   "execution_count": 6,
   "id": "2596f460",
   "metadata": {
    "execution": {
     "iopub.execute_input": "2021-08-24T16:50:29.686685Z",
     "iopub.status.busy": "2021-08-24T16:50:29.686063Z",
     "iopub.status.idle": "2021-08-24T16:50:29.778200Z",
     "shell.execute_reply": "2021-08-24T16:50:29.777505Z",
     "shell.execute_reply.started": "2021-08-24T16:46:58.692688Z"
    },
    "papermill": {
     "duration": 0.166055,
     "end_time": "2021-08-24T16:50:29.778338",
     "exception": false,
     "start_time": "2021-08-24T16:50:29.612283",
     "status": "completed"
    },
    "tags": []
   },
   "outputs": [],
   "source": [
    "df['text'] = df['text'].apply(simplify)"
   ]
  },
  {
   "cell_type": "markdown",
   "id": "99fb6d77",
   "metadata": {
    "papermill": {
     "duration": 0.071945,
     "end_time": "2021-08-24T16:50:29.921408",
     "exception": false,
     "start_time": "2021-08-24T16:50:29.849463",
     "status": "completed"
    },
    "tags": []
   },
   "source": [
    "<a id='2-2'></a>\n",
    "### _Remove user handles_"
   ]
  },
  {
   "cell_type": "code",
   "execution_count": 7,
   "id": "bc7a28bc",
   "metadata": {
    "execution": {
     "iopub.execute_input": "2021-08-24T16:50:30.070808Z",
     "iopub.status.busy": "2021-08-24T16:50:30.069945Z",
     "iopub.status.idle": "2021-08-24T16:50:30.074008Z",
     "shell.execute_reply": "2021-08-24T16:50:30.073404Z",
     "shell.execute_reply.started": "2021-08-24T16:46:58.772887Z"
    },
    "papermill": {
     "duration": 0.081481,
     "end_time": "2021-08-24T16:50:30.074144",
     "exception": false,
     "start_time": "2021-08-24T16:50:29.992663",
     "status": "completed"
    },
    "tags": []
   },
   "outputs": [
    {
     "data": {
      "text/plain": [
       "['@YouTube', '@M53Irons']"
      ]
     },
     "execution_count": 7,
     "metadata": {},
     "output_type": "execute_result"
    }
   ],
   "source": [
    "#test on a sample string\n",
    "sample = \"Erik Ten Hag reacts to West Ham defeat https://t.co/cZStBZaiW3 via @YouTube @M53Irons\"\n",
    "pattern = re.compile(r'@\\w+')\n",
    "re.findall(pattern,sample)"
   ]
  },
  {
   "cell_type": "code",
   "execution_count": 8,
   "id": "7b5d2416",
   "metadata": {
    "execution": {
     "iopub.execute_input": "2021-08-24T16:50:30.235468Z",
     "iopub.status.busy": "2021-08-24T16:50:30.230160Z",
     "iopub.status.idle": "2021-08-24T16:50:30.296727Z",
     "shell.execute_reply": "2021-08-24T16:50:30.296090Z",
     "shell.execute_reply.started": "2021-08-24T16:46:58.782082Z"
    },
    "papermill": {
     "duration": 0.151455,
     "end_time": "2021-08-24T16:50:30.296868",
     "exception": false,
     "start_time": "2021-08-24T16:50:30.145413",
     "status": "completed"
    },
    "tags": []
   },
   "outputs": [],
   "source": [
    "#remove all the user handles --> strings starting with @\n",
    "df['text'].replace(r'@\\w+','',regex=True,inplace=True)"
   ]
  },
  {
   "cell_type": "markdown",
   "id": "94071f75",
   "metadata": {
    "papermill": {
     "duration": 0.071502,
     "end_time": "2021-08-24T16:50:30.439800",
     "exception": false,
     "start_time": "2021-08-24T16:50:30.368298",
     "status": "completed"
    },
    "tags": []
   },
   "source": [
    "<a id='2-3'></a>\n",
    "### _Remove the urls_"
   ]
  },
  {
   "cell_type": "code",
   "execution_count": 9,
   "id": "b84da25c",
   "metadata": {
    "execution": {
     "iopub.execute_input": "2021-08-24T16:50:30.589075Z",
     "iopub.status.busy": "2021-08-24T16:50:30.588168Z",
     "iopub.status.idle": "2021-08-24T16:50:30.592762Z",
     "shell.execute_reply": "2021-08-24T16:50:30.592235Z",
     "shell.execute_reply.started": "2021-08-24T16:46:58.847314Z"
    },
    "papermill": {
     "duration": 0.081645,
     "end_time": "2021-08-24T16:50:30.592898",
     "exception": false,
     "start_time": "2021-08-24T16:50:30.511253",
     "status": "completed"
    },
    "tags": []
   },
   "outputs": [
    {
     "data": {
      "text/plain": [
       "['https://t.co/cZStBZaiW3']"
      ]
     },
     "execution_count": 9,
     "metadata": {},
     "output_type": "execute_result"
    }
   ],
   "source": [
    "#test on a sample \n",
    "sample = \"Erik Ten Hag reacts to West Ham defeat https://t.co/cZStBZaiW3 via @YouTube @M53Irons\"\n",
    "pattern = re.compile(r'http\\S+')\n",
    "re.findall(pattern,sample)"
   ]
  },
  {
   "cell_type": "code",
   "execution_count": 10,
   "id": "ea9b7ea2",
   "metadata": {
    "execution": {
     "iopub.execute_input": "2021-08-24T16:50:30.751033Z",
     "iopub.status.busy": "2021-08-24T16:50:30.745704Z",
     "iopub.status.idle": "2021-08-24T16:50:30.803800Z",
     "shell.execute_reply": "2021-08-24T16:50:30.803236Z",
     "shell.execute_reply.started": "2021-08-24T16:46:58.855591Z"
    },
    "papermill": {
     "duration": 0.139581,
     "end_time": "2021-08-24T16:50:30.803953",
     "exception": false,
     "start_time": "2021-08-24T16:50:30.664372",
     "status": "completed"
    },
    "tags": []
   },
   "outputs": [],
   "source": [
    "df['text'].replace(r'http\\S+','',regex=True,inplace=True)"
   ]
  },
  {
   "cell_type": "markdown",
   "id": "801ab3b8",
   "metadata": {
    "papermill": {
     "duration": 0.071349,
     "end_time": "2021-08-24T16:50:30.948191",
     "exception": false,
     "start_time": "2021-08-24T16:50:30.876842",
     "status": "completed"
    },
    "tags": []
   },
   "source": [
    "<a id='2-4'></a>\n",
    "### _Tokenize using tweet tokenizer_"
   ]
  },
  {
   "cell_type": "code",
   "execution_count": 11,
   "id": "3168134b",
   "metadata": {
    "execution": {
     "iopub.execute_input": "2021-08-24T16:50:31.098677Z",
     "iopub.status.busy": "2021-08-24T16:50:31.097748Z",
     "iopub.status.idle": "2021-08-24T16:50:31.101856Z",
     "shell.execute_reply": "2021-08-24T16:50:31.101307Z",
     "shell.execute_reply.started": "2021-08-24T16:46:58.912452Z"
    },
    "papermill": {
     "duration": 0.081139,
     "end_time": "2021-08-24T16:50:31.101997",
     "exception": false,
     "start_time": "2021-08-24T16:50:31.020858",
     "status": "completed"
    },
    "tags": []
   },
   "outputs": [
    {
     "data": {
      "text/plain": [
       "['fuck', 'eth', 'the', 'worst', 'manager', 'ever', ':-(']"
      ]
     },
     "execution_count": 11,
     "metadata": {},
     "output_type": "execute_result"
    }
   ],
   "source": [
    "#test on a sample text\n",
    "sample = 'fuck eth the worst manager ever :-('\n",
    "tweet_tokenize = TweetTokenizer(preserve_case=True)\n",
    "tweet_tokenize.tokenize(sample)"
   ]
  },
  {
   "cell_type": "code",
   "execution_count": 12,
   "id": "f0612561",
   "metadata": {
    "execution": {
     "iopub.execute_input": "2021-08-24T16:50:31.263315Z",
     "iopub.status.busy": "2021-08-24T16:50:31.258172Z",
     "iopub.status.idle": "2021-08-24T16:50:33.940957Z",
     "shell.execute_reply": "2021-08-24T16:50:33.940402Z",
     "shell.execute_reply.started": "2021-08-24T16:46:58.919023Z"
    },
    "papermill": {
     "duration": 2.76637,
     "end_time": "2021-08-24T16:50:33.941139",
     "exception": false,
     "start_time": "2021-08-24T16:50:31.174769",
     "status": "completed"
    },
    "tags": []
   },
   "outputs": [],
   "source": [
    "#tokenize the tweets in the dataframe using TweetTokenizer\n",
    "tokenizer = TweetTokenizer(preserve_case=True)\n",
    "df['text'] = df['text'].apply(tokenizer.tokenize)"
   ]
  },
  {
   "cell_type": "code",
   "execution_count": 13,
   "id": "24f8c211",
   "metadata": {
    "execution": {
     "iopub.execute_input": "2021-08-24T16:50:34.098809Z",
     "iopub.status.busy": "2021-08-24T16:50:34.097920Z",
     "iopub.status.idle": "2021-08-24T16:50:34.102266Z",
     "shell.execute_reply": "2021-08-24T16:50:34.101574Z",
     "shell.execute_reply.started": "2021-08-24T16:47:00.040575Z"
    },
    "papermill": {
     "duration": 0.087701,
     "end_time": "2021-08-24T16:50:34.102419",
     "exception": false,
     "start_time": "2021-08-24T16:50:34.014718",
     "status": "completed"
    },
    "tags": []
   },
   "outputs": [
    {
     "data": {
      "text/html": [
       "<div>\n",
       "<style scoped>\n",
       "    .dataframe tbody tr th:only-of-type {\n",
       "        vertical-align: middle;\n",
       "    }\n",
       "\n",
       "    .dataframe tbody tr th {\n",
       "        vertical-align: top;\n",
       "    }\n",
       "\n",
       "    .dataframe thead th {\n",
       "        text-align: right;\n",
       "    }\n",
       "</style>\n",
       "<table border=\"1\" class=\"dataframe\">\n",
       "  <thead>\n",
       "    <tr style=\"text-align: right;\">\n",
       "      <th></th>\n",
       "      <th>text</th>\n",
       "      <th>label</th>\n",
       "    </tr>\n",
       "  </thead>\n",
       "  <tbody>\n",
       "    <tr>\n",
       "      <th>0</th>\n",
       "      <td>[Yes, folks, there, was, a, time, Manchester, ...</td>\n",
       "      <td>hate</td>\n",
       "    </tr>\n",
       "    <tr>\n",
       "      <th>1</th>\n",
       "      <td>[What, s, INEOS, waiting, for, ?, Erik, ten, H...</td>\n",
       "      <td>no-hate</td>\n",
       "    </tr>\n",
       "    <tr>\n",
       "      <th>2</th>\n",
       "      <td>[Saka, is, the, type, of, player, Erik, Ten, H...</td>\n",
       "      <td>no-hate</td>\n",
       "    </tr>\n",
       "  </tbody>\n",
       "</table>\n",
       "</div>"
      ],
      "text/plain": [
       "                                                text    label\n",
       "0  [Yes, folks, there, was, a, time, Manchester, ...     hate\n",
       "1  [What, s, INEOS, waiting, for, ?, Erik, ten, H...  no-hate\n",
       "2  [Saka, is, the, type, of, player, Erik, Ten, H...  no-hate"
      ]
     },
     "execution_count": 13,
     "metadata": {},
     "output_type": "execute_result"
    }
   ],
   "source": [
    "#view the tokenized tweets\n",
    "df.head(3)"
   ]
  },
  {
   "cell_type": "markdown",
   "id": "1f50f9b1",
   "metadata": {
    "papermill": {
     "duration": 0.074059,
     "end_time": "2021-08-24T16:50:34.250340",
     "exception": false,
     "start_time": "2021-08-24T16:50:34.176281",
     "status": "completed"
    },
    "tags": []
   },
   "source": [
    "<a id='2-5'></a>\n",
    "### _Remove Stopwords_\n",
    "_Append more words to be removed from the text - example rt and amp which occur very frequently_"
   ]
  },
  {
   "cell_type": "code",
   "execution_count": 14,
   "id": "19999473",
   "metadata": {
    "execution": {
     "iopub.execute_input": "2021-08-24T16:50:34.400449Z",
     "iopub.status.busy": "2021-08-24T16:50:34.399635Z",
     "iopub.status.idle": "2021-08-24T16:50:34.407638Z",
     "shell.execute_reply": "2021-08-24T16:50:34.407091Z",
     "shell.execute_reply.started": "2021-08-24T16:47:00.052341Z"
    },
    "papermill": {
     "duration": 0.085337,
     "end_time": "2021-08-24T16:50:34.407790",
     "exception": false,
     "start_time": "2021-08-24T16:50:34.322453",
     "status": "completed"
    },
    "tags": []
   },
   "outputs": [
    {
     "name": "stderr",
     "output_type": "stream",
     "text": [
      "[nltk_data] Downloading package stopwords to\n",
      "[nltk_data]     C:\\Users\\Nino\\AppData\\Roaming\\nltk_data...\n",
      "[nltk_data]   Package stopwords is already up-to-date!\n"
     ]
    }
   ],
   "source": [
    "import nltk\n",
    "nltk.download('stopwords')\n",
    "\n",
    "from nltk.corpus import stopwords\n",
    "\n",
    "# Load the stopwords\n",
    "stop_words = stopwords.words('english')\n",
    "\n",
    "# Add additional stopwords to the list\n",
    "additional_list = ['amp', 'rt', 'u', \"can't\", 'ur', 'eth','Erik', 'erik', 'ten','Ten','Hag', 'hag', 'mu', 'man', 'united', 'manchester']\n",
    "stop_words.extend(additional_list)  # Extend the list instead of appending individually\n"
   ]
  },
  {
   "cell_type": "code",
   "execution_count": 15,
   "id": "7b6f201a",
   "metadata": {
    "execution": {
     "iopub.execute_input": "2021-08-24T16:50:34.558636Z",
     "iopub.status.busy": "2021-08-24T16:50:34.557856Z",
     "iopub.status.idle": "2021-08-24T16:50:34.561034Z",
     "shell.execute_reply": "2021-08-24T16:50:34.561511Z",
     "shell.execute_reply.started": "2021-08-24T16:47:00.073364Z"
    },
    "papermill": {
     "duration": 0.081262,
     "end_time": "2021-08-24T16:50:34.561692",
     "exception": false,
     "start_time": "2021-08-24T16:50:34.480430",
     "status": "completed"
    },
    "tags": []
   },
   "outputs": [
    {
     "data": {
      "text/plain": [
       "['won',\n",
       " \"won't\",\n",
       " 'wouldn',\n",
       " \"wouldn't\",\n",
       " 'amp',\n",
       " 'rt',\n",
       " 'u',\n",
       " \"can't\",\n",
       " 'ur',\n",
       " 'eth',\n",
       " 'Erik',\n",
       " 'erik',\n",
       " 'ten',\n",
       " 'Ten',\n",
       " 'Hag',\n",
       " 'hag',\n",
       " 'mu',\n",
       " 'man',\n",
       " 'united',\n",
       " 'manchester']"
      ]
     },
     "execution_count": 15,
     "metadata": {},
     "output_type": "execute_result"
    }
   ],
   "source": [
    "stop_words[-20:]"
   ]
  },
  {
   "cell_type": "code",
   "execution_count": 16,
   "id": "c48ad3f2",
   "metadata": {
    "execution": {
     "iopub.execute_input": "2021-08-24T16:50:34.710789Z",
     "iopub.status.busy": "2021-08-24T16:50:34.709823Z",
     "iopub.status.idle": "2021-08-24T16:50:34.715097Z",
     "shell.execute_reply": "2021-08-24T16:50:34.714451Z",
     "shell.execute_reply.started": "2021-08-24T16:47:00.081893Z"
    },
    "papermill": {
     "duration": 0.081115,
     "end_time": "2021-08-24T16:50:34.715240",
     "exception": false,
     "start_time": "2021-08-24T16:50:34.634125",
     "status": "completed"
    },
    "tags": []
   },
   "outputs": [],
   "source": [
    "#remove stop words\n",
    "def remove_stopwords(text):\n",
    "    '''Function to remove the stop words from the text corpus'''\n",
    "    clean_text = [word for word in text if not word in stop_words]\n",
    "    return clean_text    "
   ]
  },
  {
   "cell_type": "code",
   "execution_count": 17,
   "id": "d1d48ee1",
   "metadata": {
    "execution": {
     "iopub.execute_input": "2021-08-24T16:50:34.887103Z",
     "iopub.status.busy": "2021-08-24T16:50:34.876282Z",
     "iopub.status.idle": "2021-08-24T16:50:36.032676Z",
     "shell.execute_reply": "2021-08-24T16:50:36.033195Z",
     "shell.execute_reply.started": "2021-08-24T16:47:00.096691Z"
    },
    "papermill": {
     "duration": 1.245277,
     "end_time": "2021-08-24T16:50:36.033402",
     "exception": false,
     "start_time": "2021-08-24T16:50:34.788125",
     "status": "completed"
    },
    "tags": []
   },
   "outputs": [],
   "source": [
    "#remove the stop words from the tweets\n",
    "df['text'] = df['text'].apply(remove_stopwords)"
   ]
  },
  {
   "cell_type": "code",
   "execution_count": 18,
   "id": "9146c1b6",
   "metadata": {
    "execution": {
     "iopub.execute_input": "2021-08-24T16:50:36.182981Z",
     "iopub.status.busy": "2021-08-24T16:50:36.182368Z",
     "iopub.status.idle": "2021-08-24T16:50:36.189531Z",
     "shell.execute_reply": "2021-08-24T16:50:36.190065Z",
     "shell.execute_reply.started": "2021-08-24T16:47:01.227462Z"
    },
    "papermill": {
     "duration": 0.084018,
     "end_time": "2021-08-24T16:50:36.190234",
     "exception": false,
     "start_time": "2021-08-24T16:50:36.106216",
     "status": "completed"
    },
    "tags": []
   },
   "outputs": [
    {
     "data": {
      "text/plain": [
       "0    [Yes, folks, time, Manchester, United, got, ee...\n",
       "1    [What, INEOS, waiting, ?, got, go, ., Aren, Ar...\n",
       "2    [Saka, type, player, needs, team, ., Direct, p...\n",
       "3    [No, ., They, steadily, rebuilding, squad, ., ...\n",
       "4    [London, Stadium, never, easy, game, proud, ch...\n",
       "Name: text, dtype: object"
      ]
     },
     "execution_count": 18,
     "metadata": {},
     "output_type": "execute_result"
    }
   ],
   "source": [
    "df['text'].head()"
   ]
  },
  {
   "cell_type": "markdown",
   "id": "f96cf7f1",
   "metadata": {
    "papermill": {
     "duration": 0.073043,
     "end_time": "2021-08-24T16:50:36.337549",
     "exception": false,
     "start_time": "2021-08-24T16:50:36.264506",
     "status": "completed"
    },
    "tags": []
   },
   "source": [
    "<a id='2-6'></a>\n",
    "### _Spelling corrections_"
   ]
  },
  {
   "cell_type": "code",
   "execution_count": 19,
   "id": "f13cf790",
   "metadata": {
    "execution": {
     "iopub.execute_input": "2021-08-24T16:50:36.487291Z",
     "iopub.status.busy": "2021-08-24T16:50:36.486672Z",
     "iopub.status.idle": "2021-08-24T16:50:36.611133Z",
     "shell.execute_reply": "2021-08-24T16:50:36.611590Z",
     "shell.execute_reply.started": "2021-08-24T16:47:01.237487Z"
    },
    "papermill": {
     "duration": 0.200959,
     "end_time": "2021-08-24T16:50:36.611780",
     "exception": false,
     "start_time": "2021-08-24T16:50:36.410821",
     "status": "completed"
    },
    "tags": []
   },
   "outputs": [
    {
     "name": "stdout",
     "output_type": "stream",
     "text": [
      "i support manchester united and erie ten had is the best manager ever\n"
     ]
    }
   ],
   "source": [
    "#apply spelling correction on a sample text\n",
    "# %pip install textblob\n",
    "from textblob import TextBlob\n",
    "sample = 'i supprt manchestr united and erik ten hag is the best manager evr'\n",
    "txtblob = TextBlob(sample)\n",
    "corrected_text = txtblob.correct()\n",
    "print(corrected_text)"
   ]
  },
  {
   "cell_type": "code",
   "execution_count": 20,
   "id": "d47538de",
   "metadata": {
    "execution": {
     "iopub.execute_input": "2021-08-24T16:50:36.763317Z",
     "iopub.status.busy": "2021-08-24T16:50:36.762661Z",
     "iopub.status.idle": "2021-08-24T16:50:36.765493Z",
     "shell.execute_reply": "2021-08-24T16:50:36.765025Z",
     "shell.execute_reply.started": "2021-08-24T16:47:01.340341Z"
    },
    "papermill": {
     "duration": 0.080837,
     "end_time": "2021-08-24T16:50:36.765669",
     "exception": false,
     "start_time": "2021-08-24T16:50:36.684832",
     "status": "completed"
    },
    "tags": []
   },
   "outputs": [],
   "source": [
    "#textblob expect a string to be passed and not a list of strings\n",
    "from textblob import TextBlob\n",
    "\n",
    "def spell_check(text):\n",
    "    '''Function to do spelling correction using '''\n",
    "    txtblob = TextBlob(text)\n",
    "    corrected_text = txtblob.correct()\n",
    "    return corrected_text\n",
    "    "
   ]
  },
  {
   "cell_type": "markdown",
   "id": "a9ed9cf4",
   "metadata": {
    "papermill": {
     "duration": 0.075536,
     "end_time": "2021-08-24T16:50:36.914738",
     "exception": false,
     "start_time": "2021-08-24T16:50:36.839202",
     "status": "completed"
    },
    "tags": []
   },
   "source": [
    "<a id='2-7'></a>\n",
    "### _Remove # symbols while retaining the text_"
   ]
  },
  {
   "cell_type": "code",
   "execution_count": 21,
   "id": "f23c0c04",
   "metadata": {
    "execution": {
     "iopub.execute_input": "2021-08-24T16:50:37.069848Z",
     "iopub.status.busy": "2021-08-24T16:50:37.068948Z",
     "iopub.status.idle": "2021-08-24T16:50:37.072361Z",
     "shell.execute_reply": "2021-08-24T16:50:37.072891Z",
     "shell.execute_reply.started": "2021-08-24T16:47:01.347976Z"
    },
    "papermill": {
     "duration": 0.084471,
     "end_time": "2021-08-24T16:50:37.073067",
     "exception": false,
     "start_time": "2021-08-24T16:50:36.988596",
     "status": "completed"
    },
    "tags": []
   },
   "outputs": [
    {
     "data": {
      "text/plain": [
       "'eth mu manchester'"
      ]
     },
     "execution_count": 21,
     "metadata": {},
     "output_type": "execute_result"
    }
   ],
   "source": [
    "#try tremoving # symbols from a sample text\n",
    "sample = '#eth #mu #manchester'\n",
    "pattern = re.compile(r'#')\n",
    "re.sub(pattern,'',sample)"
   ]
  },
  {
   "cell_type": "code",
   "execution_count": 22,
   "id": "5f402014",
   "metadata": {
    "execution": {
     "iopub.execute_input": "2021-08-24T16:50:37.226422Z",
     "iopub.status.busy": "2021-08-24T16:50:37.225447Z",
     "iopub.status.idle": "2021-08-24T16:50:37.230635Z",
     "shell.execute_reply": "2021-08-24T16:50:37.231129Z",
     "shell.execute_reply.started": "2021-08-24T16:47:01.367382Z"
    },
    "papermill": {
     "duration": 0.083906,
     "end_time": "2021-08-24T16:50:37.231306",
     "exception": false,
     "start_time": "2021-08-24T16:50:37.147400",
     "status": "completed"
    },
    "tags": []
   },
   "outputs": [],
   "source": [
    "def remove_hashsymbols(text):\n",
    "    '''Function to remove the hashtag symbol from the text'''\n",
    "    pattern = re.compile(r'#')\n",
    "    text = ' '.join(text)\n",
    "    clean_text = re.sub(pattern,'',text)\n",
    "    return tokenizer.tokenize(clean_text)    "
   ]
  },
  {
   "cell_type": "code",
   "execution_count": 23,
   "id": "1011b4f9",
   "metadata": {
    "execution": {
     "iopub.execute_input": "2021-08-24T16:50:37.384158Z",
     "iopub.status.busy": "2021-08-24T16:50:37.383142Z",
     "iopub.status.idle": "2021-08-24T16:50:39.667676Z",
     "shell.execute_reply": "2021-08-24T16:50:39.668237Z",
     "shell.execute_reply.started": "2021-08-24T16:47:01.376527Z"
    },
    "papermill": {
     "duration": 2.362664,
     "end_time": "2021-08-24T16:50:39.668415",
     "exception": false,
     "start_time": "2021-08-24T16:50:37.305751",
     "status": "completed"
    },
    "tags": []
   },
   "outputs": [],
   "source": [
    "df['text'] = df['text'].apply(remove_hashsymbols)"
   ]
  },
  {
   "cell_type": "code",
   "execution_count": 24,
   "id": "4ef8ae12",
   "metadata": {
    "execution": {
     "iopub.execute_input": "2021-08-24T16:50:39.826090Z",
     "iopub.status.busy": "2021-08-24T16:50:39.825391Z",
     "iopub.status.idle": "2021-08-24T16:50:39.828522Z",
     "shell.execute_reply": "2021-08-24T16:50:39.828991Z",
     "shell.execute_reply.started": "2021-08-24T16:47:02.351542Z"
    },
    "papermill": {
     "duration": 0.087036,
     "end_time": "2021-08-24T16:50:39.829195",
     "exception": false,
     "start_time": "2021-08-24T16:50:39.742159",
     "status": "completed"
    },
    "tags": []
   },
   "outputs": [
    {
     "data": {
      "text/html": [
       "<div>\n",
       "<style scoped>\n",
       "    .dataframe tbody tr th:only-of-type {\n",
       "        vertical-align: middle;\n",
       "    }\n",
       "\n",
       "    .dataframe tbody tr th {\n",
       "        vertical-align: top;\n",
       "    }\n",
       "\n",
       "    .dataframe thead th {\n",
       "        text-align: right;\n",
       "    }\n",
       "</style>\n",
       "<table border=\"1\" class=\"dataframe\">\n",
       "  <thead>\n",
       "    <tr style=\"text-align: right;\">\n",
       "      <th></th>\n",
       "      <th>text</th>\n",
       "      <th>label</th>\n",
       "    </tr>\n",
       "  </thead>\n",
       "  <tbody>\n",
       "    <tr>\n",
       "      <th>0</th>\n",
       "      <td>[Yes, folks, time, Manchester, United, got, ee...</td>\n",
       "      <td>hate</td>\n",
       "    </tr>\n",
       "    <tr>\n",
       "      <th>1</th>\n",
       "      <td>[What, INEOS, waiting, ?, got, go, ., Aren, Ar...</td>\n",
       "      <td>no-hate</td>\n",
       "    </tr>\n",
       "    <tr>\n",
       "      <th>2</th>\n",
       "      <td>[Saka, type, player, needs, team, ., Direct, p...</td>\n",
       "      <td>no-hate</td>\n",
       "    </tr>\n",
       "    <tr>\n",
       "      <th>3</th>\n",
       "      <td>[No, ., They, steadily, rebuilding, squad, ., ...</td>\n",
       "      <td>no-hate</td>\n",
       "    </tr>\n",
       "    <tr>\n",
       "      <th>4</th>\n",
       "      <td>[London, Stadium, never, easy, game, proud, ch...</td>\n",
       "      <td>no-hate</td>\n",
       "    </tr>\n",
       "    <tr>\n",
       "      <th>5</th>\n",
       "      <td>[I, thought, -, actually, well, another, club,...</td>\n",
       "      <td>no-hate</td>\n",
       "    </tr>\n",
       "    <tr>\n",
       "      <th>6</th>\n",
       "      <td>[Are, seriously, comparing, Hansi, Flick, ?, E...</td>\n",
       "      <td>no-hate</td>\n",
       "    </tr>\n",
       "    <tr>\n",
       "      <th>7</th>\n",
       "      <td>[We, played, good, ..., So, I, criticize, team...</td>\n",
       "      <td>no-hate</td>\n",
       "    </tr>\n",
       "    <tr>\n",
       "      <th>8</th>\n",
       "      <td>[Hag's, Man, United, WON, Just, 3, Their, 14, ...</td>\n",
       "      <td>hate</td>\n",
       "    </tr>\n",
       "    <tr>\n",
       "      <th>9</th>\n",
       "      <td>[VAR, controversy, gives, another, way, blame,...</td>\n",
       "      <td>no-hate</td>\n",
       "    </tr>\n",
       "  </tbody>\n",
       "</table>\n",
       "</div>"
      ],
      "text/plain": [
       "                                                text    label\n",
       "0  [Yes, folks, time, Manchester, United, got, ee...     hate\n",
       "1  [What, INEOS, waiting, ?, got, go, ., Aren, Ar...  no-hate\n",
       "2  [Saka, type, player, needs, team, ., Direct, p...  no-hate\n",
       "3  [No, ., They, steadily, rebuilding, squad, ., ...  no-hate\n",
       "4  [London, Stadium, never, easy, game, proud, ch...  no-hate\n",
       "5  [I, thought, -, actually, well, another, club,...  no-hate\n",
       "6  [Are, seriously, comparing, Hansi, Flick, ?, E...  no-hate\n",
       "7  [We, played, good, ..., So, I, criticize, team...  no-hate\n",
       "8  [Hag's, Man, United, WON, Just, 3, Their, 14, ...     hate\n",
       "9  [VAR, controversy, gives, another, way, blame,...  no-hate"
      ]
     },
     "execution_count": 24,
     "metadata": {},
     "output_type": "execute_result"
    }
   ],
   "source": [
    "df.head(10)"
   ]
  },
  {
   "cell_type": "markdown",
   "id": "46748e24",
   "metadata": {
    "papermill": {
     "duration": 0.075124,
     "end_time": "2021-08-24T16:50:39.978933",
     "exception": false,
     "start_time": "2021-08-24T16:50:39.903809",
     "status": "completed"
    },
    "tags": []
   },
   "source": [
    "<a id='2-8'></a>\n",
    "### _Remove single and double length characters_"
   ]
  },
  {
   "cell_type": "code",
   "execution_count": 25,
   "id": "68da31ea",
   "metadata": {
    "execution": {
     "iopub.execute_input": "2021-08-24T16:50:40.132570Z",
     "iopub.status.busy": "2021-08-24T16:50:40.131832Z",
     "iopub.status.idle": "2021-08-24T16:50:40.136664Z",
     "shell.execute_reply": "2021-08-24T16:50:40.137132Z",
     "shell.execute_reply.started": "2021-08-24T16:47:02.362546Z"
    },
    "papermill": {
     "duration": 0.082598,
     "end_time": "2021-08-24T16:50:40.137348",
     "exception": false,
     "start_time": "2021-08-24T16:50:40.054750",
     "status": "completed"
    },
    "tags": []
   },
   "outputs": [],
   "source": [
    "def rem_shortwords(text):\n",
    "    '''Function to remove the short words of length 1 and 2 characters'''\n",
    "    '''Arguments: \n",
    "       text: string\n",
    "       returns: string without containing words of length 1 and 2'''\n",
    "    lengths = [1,2]\n",
    "    new_text = ' '.join(text)\n",
    "    for word in text:\n",
    "        text = [word for word in tokenizer.tokenize(new_text) if not len(word) in lengths]\n",
    "        \n",
    "    return new_text       \n",
    "    "
   ]
  },
  {
   "cell_type": "code",
   "execution_count": 26,
   "id": "91bd2abf",
   "metadata": {
    "execution": {
     "iopub.execute_input": "2021-08-24T16:50:40.292347Z",
     "iopub.status.busy": "2021-08-24T16:50:40.291642Z",
     "iopub.status.idle": "2021-08-24T16:51:03.912174Z",
     "shell.execute_reply": "2021-08-24T16:51:03.911526Z",
     "shell.execute_reply.started": "2021-08-24T16:47:02.375959Z"
    },
    "papermill": {
     "duration": 23.699106,
     "end_time": "2021-08-24T16:51:03.912321",
     "exception": false,
     "start_time": "2021-08-24T16:50:40.213215",
     "status": "completed"
    },
    "tags": []
   },
   "outputs": [],
   "source": [
    "df['text'] = df['text'].apply(rem_shortwords)"
   ]
  },
  {
   "cell_type": "code",
   "execution_count": 27,
   "id": "3dd48c28",
   "metadata": {
    "execution": {
     "iopub.execute_input": "2021-08-24T16:51:04.071319Z",
     "iopub.status.busy": "2021-08-24T16:51:04.070509Z",
     "iopub.status.idle": "2021-08-24T16:51:04.073809Z",
     "shell.execute_reply": "2021-08-24T16:51:04.074302Z",
     "shell.execute_reply.started": "2021-08-24T16:47:11.592574Z"
    },
    "papermill": {
     "duration": 0.087213,
     "end_time": "2021-08-24T16:51:04.074468",
     "exception": false,
     "start_time": "2021-08-24T16:51:03.987255",
     "status": "completed"
    },
    "tags": []
   },
   "outputs": [
    {
     "data": {
      "text/html": [
       "<div>\n",
       "<style scoped>\n",
       "    .dataframe tbody tr th:only-of-type {\n",
       "        vertical-align: middle;\n",
       "    }\n",
       "\n",
       "    .dataframe tbody tr th {\n",
       "        vertical-align: top;\n",
       "    }\n",
       "\n",
       "    .dataframe thead th {\n",
       "        text-align: right;\n",
       "    }\n",
       "</style>\n",
       "<table border=\"1\" class=\"dataframe\">\n",
       "  <thead>\n",
       "    <tr style=\"text-align: right;\">\n",
       "      <th></th>\n",
       "      <th>text</th>\n",
       "      <th>label</th>\n",
       "    </tr>\n",
       "  </thead>\n",
       "  <tbody>\n",
       "    <tr>\n",
       "      <th>0</th>\n",
       "      <td>Yes folks time Manchester United got eelegated...</td>\n",
       "      <td>hate</td>\n",
       "    </tr>\n",
       "    <tr>\n",
       "      <th>1</th>\n",
       "      <td>What INEOS waiting ? got go . Aren Arsenal tit...</td>\n",
       "      <td>no-hate</td>\n",
       "    </tr>\n",
       "    <tr>\n",
       "      <th>2</th>\n",
       "      <td>Saka type player needs team . Direct purposefu...</td>\n",
       "      <td>no-hate</td>\n",
       "    </tr>\n",
       "    <tr>\n",
       "      <th>3</th>\n",
       "      <td>No . They steadily rebuilding squad . \" \"</td>\n",
       "      <td>no-hate</td>\n",
       "    </tr>\n",
       "    <tr>\n",
       "      <th>4</th>\n",
       "      <td>London Stadium never easy game proud chances c...</td>\n",
       "      <td>no-hate</td>\n",
       "    </tr>\n",
       "  </tbody>\n",
       "</table>\n",
       "</div>"
      ],
      "text/plain": [
       "                                                text    label\n",
       "0  Yes folks time Manchester United got eelegated...     hate\n",
       "1  What INEOS waiting ? got go . Aren Arsenal tit...  no-hate\n",
       "2  Saka type player needs team . Direct purposefu...  no-hate\n",
       "3          No . They steadily rebuilding squad . \" \"  no-hate\n",
       "4  London Stadium never easy game proud chances c...  no-hate"
      ]
     },
     "execution_count": 27,
     "metadata": {},
     "output_type": "execute_result"
    }
   ],
   "source": [
    "df.head(5)"
   ]
  },
  {
   "cell_type": "code",
   "execution_count": 28,
   "id": "42722049",
   "metadata": {
    "execution": {
     "iopub.execute_input": "2021-08-24T16:51:04.228855Z",
     "iopub.status.busy": "2021-08-24T16:51:04.227845Z",
     "iopub.status.idle": "2021-08-24T16:51:06.332597Z",
     "shell.execute_reply": "2021-08-24T16:51:06.331925Z",
     "shell.execute_reply.started": "2021-08-24T16:47:11.604955Z"
    },
    "papermill": {
     "duration": 2.182811,
     "end_time": "2021-08-24T16:51:06.332758",
     "exception": false,
     "start_time": "2021-08-24T16:51:04.149947",
     "status": "completed"
    },
    "tags": []
   },
   "outputs": [],
   "source": [
    "df['text'] = df['text'].apply(tokenizer.tokenize)"
   ]
  },
  {
   "cell_type": "code",
   "execution_count": 29,
   "id": "4cdb5d00",
   "metadata": {
    "execution": {
     "iopub.execute_input": "2021-08-24T16:51:06.494194Z",
     "iopub.status.busy": "2021-08-24T16:51:06.493499Z",
     "iopub.status.idle": "2021-08-24T16:51:06.496254Z",
     "shell.execute_reply": "2021-08-24T16:51:06.496764Z",
     "shell.execute_reply.started": "2021-08-24T16:47:12.429772Z"
    },
    "papermill": {
     "duration": 0.08829,
     "end_time": "2021-08-24T16:51:06.496938",
     "exception": false,
     "start_time": "2021-08-24T16:51:06.408648",
     "status": "completed"
    },
    "tags": []
   },
   "outputs": [
    {
     "data": {
      "text/html": [
       "<div>\n",
       "<style scoped>\n",
       "    .dataframe tbody tr th:only-of-type {\n",
       "        vertical-align: middle;\n",
       "    }\n",
       "\n",
       "    .dataframe tbody tr th {\n",
       "        vertical-align: top;\n",
       "    }\n",
       "\n",
       "    .dataframe thead th {\n",
       "        text-align: right;\n",
       "    }\n",
       "</style>\n",
       "<table border=\"1\" class=\"dataframe\">\n",
       "  <thead>\n",
       "    <tr style=\"text-align: right;\">\n",
       "      <th></th>\n",
       "      <th>text</th>\n",
       "      <th>label</th>\n",
       "    </tr>\n",
       "  </thead>\n",
       "  <tbody>\n",
       "    <tr>\n",
       "      <th>0</th>\n",
       "      <td>[Yes, folks, time, Manchester, United, got, ee...</td>\n",
       "      <td>hate</td>\n",
       "    </tr>\n",
       "    <tr>\n",
       "      <th>1</th>\n",
       "      <td>[What, INEOS, waiting, ?, got, go, ., Aren, Ar...</td>\n",
       "      <td>no-hate</td>\n",
       "    </tr>\n",
       "    <tr>\n",
       "      <th>2</th>\n",
       "      <td>[Saka, type, player, needs, team, ., Direct, p...</td>\n",
       "      <td>no-hate</td>\n",
       "    </tr>\n",
       "    <tr>\n",
       "      <th>3</th>\n",
       "      <td>[No, ., They, steadily, rebuilding, squad, ., ...</td>\n",
       "      <td>no-hate</td>\n",
       "    </tr>\n",
       "    <tr>\n",
       "      <th>4</th>\n",
       "      <td>[London, Stadium, never, easy, game, proud, ch...</td>\n",
       "      <td>no-hate</td>\n",
       "    </tr>\n",
       "  </tbody>\n",
       "</table>\n",
       "</div>"
      ],
      "text/plain": [
       "                                                text    label\n",
       "0  [Yes, folks, time, Manchester, United, got, ee...     hate\n",
       "1  [What, INEOS, waiting, ?, got, go, ., Aren, Ar...  no-hate\n",
       "2  [Saka, type, player, needs, team, ., Direct, p...  no-hate\n",
       "3  [No, ., They, steadily, rebuilding, squad, ., ...  no-hate\n",
       "4  [London, Stadium, never, easy, game, proud, ch...  no-hate"
      ]
     },
     "execution_count": 29,
     "metadata": {},
     "output_type": "execute_result"
    }
   ],
   "source": [
    "df.head(5)"
   ]
  },
  {
   "cell_type": "markdown",
   "id": "8ade1065",
   "metadata": {
    "papermill": {
     "duration": 0.07526,
     "end_time": "2021-08-24T16:51:06.648794",
     "exception": false,
     "start_time": "2021-08-24T16:51:06.573534",
     "status": "completed"
    },
    "tags": []
   },
   "source": [
    "<a id='2-9'></a>\n",
    "### _Remove digits_"
   ]
  },
  {
   "cell_type": "code",
   "execution_count": 30,
   "id": "4024c20a",
   "metadata": {
    "execution": {
     "iopub.execute_input": "2021-08-24T16:51:06.804325Z",
     "iopub.status.busy": "2021-08-24T16:51:06.803672Z",
     "iopub.status.idle": "2021-08-24T16:51:06.808501Z",
     "shell.execute_reply": "2021-08-24T16:51:06.807869Z",
     "shell.execute_reply.started": "2021-08-24T16:47:12.442477Z"
    },
    "papermill": {
     "duration": 0.082942,
     "end_time": "2021-08-24T16:51:06.808674",
     "exception": false,
     "start_time": "2021-08-24T16:51:06.725732",
     "status": "completed"
    },
    "tags": []
   },
   "outputs": [],
   "source": [
    "def rem_digits(text):\n",
    "    '''Function to remove the digits from the list of strings'''\n",
    "    no_digits = []\n",
    "    for word in text:\n",
    "        no_digits.append(re.sub(r'\\d','',word))\n",
    "    return ' '.join(no_digits)   "
   ]
  },
  {
   "cell_type": "code",
   "execution_count": 31,
   "id": "f9a7c354",
   "metadata": {
    "execution": {
     "iopub.execute_input": "2021-08-24T16:51:06.965590Z",
     "iopub.status.busy": "2021-08-24T16:51:06.964965Z",
     "iopub.status.idle": "2021-08-24T16:51:07.465846Z",
     "shell.execute_reply": "2021-08-24T16:51:07.465247Z",
     "shell.execute_reply.started": "2021-08-24T16:47:12.452098Z"
    },
    "papermill": {
     "duration": 0.581293,
     "end_time": "2021-08-24T16:51:07.466001",
     "exception": false,
     "start_time": "2021-08-24T16:51:06.884708",
     "status": "completed"
    },
    "tags": []
   },
   "outputs": [],
   "source": [
    "df['text'] = df['text'].apply(rem_digits)"
   ]
  },
  {
   "cell_type": "code",
   "execution_count": 32,
   "id": "999fca63",
   "metadata": {
    "execution": {
     "iopub.execute_input": "2021-08-24T16:51:07.642992Z",
     "iopub.status.busy": "2021-08-24T16:51:07.627219Z",
     "iopub.status.idle": "2021-08-24T16:51:09.826376Z",
     "shell.execute_reply": "2021-08-24T16:51:09.825698Z",
     "shell.execute_reply.started": "2021-08-24T16:47:12.780187Z"
    },
    "papermill": {
     "duration": 2.284917,
     "end_time": "2021-08-24T16:51:09.826515",
     "exception": false,
     "start_time": "2021-08-24T16:51:07.541598",
     "status": "completed"
    },
    "tags": []
   },
   "outputs": [],
   "source": [
    "df['text'] = df['text'].apply(tokenizer.tokenize)"
   ]
  },
  {
   "cell_type": "code",
   "execution_count": 33,
   "id": "9b5ff2a5",
   "metadata": {
    "execution": {
     "iopub.execute_input": "2021-08-24T16:51:09.999766Z",
     "iopub.status.busy": "2021-08-24T16:51:09.998996Z",
     "iopub.status.idle": "2021-08-24T16:51:10.003197Z",
     "shell.execute_reply": "2021-08-24T16:51:10.002565Z",
     "shell.execute_reply.started": "2021-08-24T16:47:13.725493Z"
    },
    "papermill": {
     "duration": 0.095072,
     "end_time": "2021-08-24T16:51:10.003332",
     "exception": false,
     "start_time": "2021-08-24T16:51:09.908260",
     "status": "completed"
    },
    "tags": []
   },
   "outputs": [
    {
     "data": {
      "text/html": [
       "<div>\n",
       "<style scoped>\n",
       "    .dataframe tbody tr th:only-of-type {\n",
       "        vertical-align: middle;\n",
       "    }\n",
       "\n",
       "    .dataframe tbody tr th {\n",
       "        vertical-align: top;\n",
       "    }\n",
       "\n",
       "    .dataframe thead th {\n",
       "        text-align: right;\n",
       "    }\n",
       "</style>\n",
       "<table border=\"1\" class=\"dataframe\">\n",
       "  <thead>\n",
       "    <tr style=\"text-align: right;\">\n",
       "      <th></th>\n",
       "      <th>text</th>\n",
       "      <th>label</th>\n",
       "    </tr>\n",
       "  </thead>\n",
       "  <tbody>\n",
       "    <tr>\n",
       "      <th>0</th>\n",
       "      <td>[Yes, folks, time, Manchester, United, got, ee...</td>\n",
       "      <td>hate</td>\n",
       "    </tr>\n",
       "    <tr>\n",
       "      <th>1</th>\n",
       "      <td>[What, INEOS, waiting, ?, got, go, ., Aren, Ar...</td>\n",
       "      <td>no-hate</td>\n",
       "    </tr>\n",
       "    <tr>\n",
       "      <th>2</th>\n",
       "      <td>[Saka, type, player, needs, team, ., Direct, p...</td>\n",
       "      <td>no-hate</td>\n",
       "    </tr>\n",
       "    <tr>\n",
       "      <th>3</th>\n",
       "      <td>[No, ., They, steadily, rebuilding, squad, ., ...</td>\n",
       "      <td>no-hate</td>\n",
       "    </tr>\n",
       "    <tr>\n",
       "      <th>4</th>\n",
       "      <td>[London, Stadium, never, easy, game, proud, ch...</td>\n",
       "      <td>no-hate</td>\n",
       "    </tr>\n",
       "  </tbody>\n",
       "</table>\n",
       "</div>"
      ],
      "text/plain": [
       "                                                text    label\n",
       "0  [Yes, folks, time, Manchester, United, got, ee...     hate\n",
       "1  [What, INEOS, waiting, ?, got, go, ., Aren, Ar...  no-hate\n",
       "2  [Saka, type, player, needs, team, ., Direct, p...  no-hate\n",
       "3  [No, ., They, steadily, rebuilding, squad, ., ...  no-hate\n",
       "4  [London, Stadium, never, easy, game, proud, ch...  no-hate"
      ]
     },
     "execution_count": 33,
     "metadata": {},
     "output_type": "execute_result"
    }
   ],
   "source": [
    "df.head()"
   ]
  },
  {
   "cell_type": "markdown",
   "id": "0402c597",
   "metadata": {
    "papermill": {
     "duration": 0.075123,
     "end_time": "2021-08-24T16:51:10.155463",
     "exception": false,
     "start_time": "2021-08-24T16:51:10.080340",
     "status": "completed"
    },
    "tags": []
   },
   "source": [
    "<a id='2-10'></a>\n",
    "### _Remove special characters_\n"
   ]
  },
  {
   "cell_type": "code",
   "execution_count": 34,
   "id": "2c3c762c",
   "metadata": {
    "execution": {
     "iopub.execute_input": "2021-08-24T16:51:10.313734Z",
     "iopub.status.busy": "2021-08-24T16:51:10.312656Z",
     "iopub.status.idle": "2021-08-24T16:51:10.316069Z",
     "shell.execute_reply": "2021-08-24T16:51:10.315398Z",
     "shell.execute_reply.started": "2021-08-24T16:47:13.740320Z"
    },
    "papermill": {
     "duration": 0.084811,
     "end_time": "2021-08-24T16:51:10.316218",
     "exception": false,
     "start_time": "2021-08-24T16:51:10.231407",
     "status": "completed"
    },
    "tags": []
   },
   "outputs": [],
   "source": [
    "def rem_nonalpha(text):\n",
    "    '''Function to remove the non-alphanumeric characters from the text'''\n",
    "    text = [word for word in text if word.isalpha()]\n",
    "    return text"
   ]
  },
  {
   "cell_type": "code",
   "execution_count": 35,
   "id": "56ba7382",
   "metadata": {
    "execution": {
     "iopub.execute_input": "2021-08-24T16:51:10.494709Z",
     "iopub.status.busy": "2021-08-24T16:51:10.479064Z",
     "iopub.status.idle": "2021-08-24T16:51:10.552141Z",
     "shell.execute_reply": "2021-08-24T16:51:10.552642Z",
     "shell.execute_reply.started": "2021-08-24T16:47:13.752167Z"
    },
    "papermill": {
     "duration": 0.159339,
     "end_time": "2021-08-24T16:51:10.552833",
     "exception": false,
     "start_time": "2021-08-24T16:51:10.393494",
     "status": "completed"
    },
    "tags": []
   },
   "outputs": [],
   "source": [
    "#remove the non alpha numeric characters from the text tokens\n",
    "df['text'] = df['text'].apply(rem_nonalpha)"
   ]
  },
  {
   "cell_type": "markdown",
   "id": "ff491910",
   "metadata": {
    "papermill": {
     "duration": 0.075458,
     "end_time": "2021-08-24T16:51:10.704097",
     "exception": false,
     "start_time": "2021-08-24T16:51:10.628639",
     "status": "completed"
    },
    "tags": []
   },
   "source": [
    "<a id='3'></a>\n",
    "## _Exploratory Data Analysis - Broad Approach_"
   ]
  },
  {
   "cell_type": "markdown",
   "id": "95220346",
   "metadata": {
    "papermill": {
     "duration": 0.076094,
     "end_time": "2021-08-24T16:51:10.856284",
     "exception": false,
     "start_time": "2021-08-24T16:51:10.780190",
     "status": "completed"
    },
    "tags": []
   },
   "source": [
    "<a id='3-1'></a>\n",
    "### _Check for data balance_"
   ]
  },
  {
   "cell_type": "code",
   "execution_count": 36,
   "id": "2fcd333a",
   "metadata": {
    "execution": {
     "iopub.execute_input": "2021-08-24T16:51:11.041521Z",
     "iopub.status.busy": "2021-08-24T16:51:11.040831Z",
     "iopub.status.idle": "2021-08-24T16:51:11.221440Z",
     "shell.execute_reply": "2021-08-24T16:51:11.220830Z",
     "shell.execute_reply.started": "2021-08-24T16:47:13.829268Z"
    },
    "papermill": {
     "duration": 0.282011,
     "end_time": "2021-08-24T16:51:11.221573",
     "exception": false,
     "start_time": "2021-08-24T16:51:10.939562",
     "status": "completed"
    },
    "tags": []
   },
   "outputs": [
    {
     "data": {
      "image/png": "[encoded data removed]",
      "text/plain": [
       "<Figure size 1200x500 with 1 Axes>"
      ]
     },
     "metadata": {},
     "output_type": "display_data"
    }
   ],
   "source": [
    "#plot of the count of hate and non hate tweet\n",
    "sns.countplot(df['label'])\n",
    "plt.title('Count of Hate vs Non Hate Tweet')\n",
    "plt.grid()\n",
    "plt.show()"
   ]
  },
  {
   "cell_type": "markdown",
   "id": "c4625be9",
   "metadata": {
    "papermill": {
     "duration": 0.07704,
     "end_time": "2021-08-24T16:51:11.376881",
     "exception": false,
     "start_time": "2021-08-24T16:51:11.299841",
     "status": "completed"
    },
    "tags": []
   },
   "source": [
    "_There are more hatespeech than the non hatespeech in the dataset_"
   ]
  },
  {
   "cell_type": "markdown",
   "id": "b722428c",
   "metadata": {
    "execution": {
     "iopub.execute_input": "2021-08-13T08:28:31.024391Z",
     "iopub.status.busy": "2021-08-13T08:28:31.023999Z",
     "iopub.status.idle": "2021-08-13T08:28:31.13622Z",
     "shell.execute_reply": "2021-08-13T08:28:31.135427Z",
     "shell.execute_reply.started": "2021-08-13T08:28:31.024358Z"
    },
    "papermill": {
     "duration": 0.077527,
     "end_time": "2021-08-24T16:51:11.532186",
     "exception": false,
     "start_time": "2021-08-24T16:51:11.454659",
     "status": "completed"
    },
    "tags": []
   },
   "source": [
    "<a id='3-2'></a>\n",
    "### _Check out the top terms in the tweets_"
   ]
  },
  {
   "cell_type": "code",
   "execution_count": 37,
   "id": "97165d9d",
   "metadata": {
    "execution": {
     "iopub.execute_input": "2021-08-24T16:51:11.705426Z",
     "iopub.status.busy": "2021-08-24T16:51:11.694590Z",
     "iopub.status.idle": "2021-08-24T16:51:11.827887Z",
     "shell.execute_reply": "2021-08-24T16:51:11.827041Z",
     "shell.execute_reply.started": "2021-08-24T16:47:13.998560Z"
    },
    "papermill": {
     "duration": 0.217354,
     "end_time": "2021-08-24T16:51:11.828066",
     "exception": false,
     "start_time": "2021-08-24T16:51:11.610712",
     "status": "completed"
    },
    "tags": []
   },
   "outputs": [
    {
     "name": "stdout",
     "output_type": "stream",
     "text": [
      "[('You', 1656), ('United', 487), ('I', 411), ('Manchester', 401), ('West', 310), ('Man', 279), ('Ham', 268), ('MUFC', 208), ('Utd', 182), ('team', 172)]\n"
     ]
    }
   ],
   "source": [
    "from collections import Counter\n",
    "results = Counter()\n",
    "df['text'].apply(results.update)\n",
    "#print the top 10 most common terms in the tweet \n",
    "print(results.most_common(10))"
   ]
  },
  {
   "cell_type": "code",
   "execution_count": 38,
   "id": "a8398e4c",
   "metadata": {
    "execution": {
     "iopub.execute_input": "2021-08-24T16:51:12.013052Z",
     "iopub.status.busy": "2021-08-24T16:51:12.011261Z",
     "iopub.status.idle": "2021-08-24T16:51:12.195315Z",
     "shell.execute_reply": "2021-08-24T16:51:12.194655Z",
     "shell.execute_reply.started": "2021-08-24T16:47:14.123402Z"
    },
    "papermill": {
     "duration": 0.288146,
     "end_time": "2021-08-24T16:51:12.195457",
     "exception": false,
     "start_time": "2021-08-24T16:51:11.907311",
     "status": "completed"
    },
    "tags": []
   },
   "outputs": [
    {
     "data": {
      "image/png": "[encoded data removed]",
      "text/plain": [
       "<Figure size 1200x500 with 1 Axes>"
      ]
     },
     "metadata": {},
     "output_type": "display_data"
    }
   ],
   "source": [
    "#plot the cumulative frequency of the top 10 most common tokens \n",
    "frequency = nltk.FreqDist(results)\n",
    "plt.title('Top 15 Most Common Terms')\n",
    "frequency.plot(15,cumulative=True)\n",
    "plt.show()"
   ]
  },
  {
   "cell_type": "code",
   "execution_count": 39,
   "id": "3ffc2d23",
   "metadata": {
    "execution": {
     "iopub.execute_input": "2021-08-24T16:51:12.399040Z",
     "iopub.status.busy": "2021-08-24T16:51:12.393680Z",
     "iopub.status.idle": "2021-08-24T16:51:12.576962Z",
     "shell.execute_reply": "2021-08-24T16:51:12.576367Z",
     "shell.execute_reply.started": "2021-08-24T16:47:14.313790Z"
    },
    "papermill": {
     "duration": 0.300891,
     "end_time": "2021-08-24T16:51:12.577108",
     "exception": false,
     "start_time": "2021-08-24T16:51:12.276217",
     "status": "completed"
    },
    "tags": []
   },
   "outputs": [
    {
     "data": {
      "image/png": "[encoded data removed]",
      "text/plain": [
       "<Figure size 1200x500 with 1 Axes>"
      ]
     },
     "metadata": {},
     "output_type": "display_data"
    }
   ],
   "source": [
    "#plot the frequency of the top 10 most common tokens \n",
    "frequency = nltk.FreqDist(results)\n",
    "plt.title('Top 15 Most Common Terms')\n",
    "frequency.plot(15,cumulative=False)\n",
    "plt.show()"
   ]
  },
  {
   "cell_type": "markdown",
   "id": "75581ecf",
   "metadata": {
    "papermill": {
     "duration": 0.082208,
     "end_time": "2021-08-24T16:51:12.740987",
     "exception": false,
     "start_time": "2021-08-24T16:51:12.658779",
     "status": "completed"
    },
    "tags": []
   },
   "source": [
    "_Love is the most frequently used word followed by day, happy etc. This is expected as there are more non hate tweets than hate tweets in the dataset_"
   ]
  },
  {
   "cell_type": "markdown",
   "id": "24d32e43",
   "metadata": {
    "papermill": {
     "duration": 0.082314,
     "end_time": "2021-08-24T16:51:12.905711",
     "exception": false,
     "start_time": "2021-08-24T16:51:12.823397",
     "status": "completed"
    },
    "tags": []
   },
   "source": [
    "<a id='4'></a>\n",
    "## _Predictive Modeling_"
   ]
  },
  {
   "cell_type": "markdown",
   "id": "c61f4db1",
   "metadata": {
    "papermill": {
     "duration": 0.083169,
     "end_time": "2021-08-24T16:51:13.071464",
     "exception": false,
     "start_time": "2021-08-24T16:51:12.988295",
     "status": "completed"
    },
    "tags": []
   },
   "source": [
    "### _Data Formatting for Predictive Modeling_"
   ]
  },
  {
   "cell_type": "code",
   "execution_count": 40,
   "id": "c568ffaa",
   "metadata": {
    "execution": {
     "iopub.execute_input": "2021-08-24T16:51:13.247670Z",
     "iopub.status.busy": "2021-08-24T16:51:13.243782Z",
     "iopub.status.idle": "2021-08-24T16:51:13.251884Z",
     "shell.execute_reply": "2021-08-24T16:51:13.252328Z",
     "shell.execute_reply.started": "2021-08-24T16:47:14.500959Z"
    },
    "papermill": {
     "duration": 0.098926,
     "end_time": "2021-08-24T16:51:13.252502",
     "exception": false,
     "start_time": "2021-08-24T16:51:13.153576",
     "status": "completed"
    },
    "tags": []
   },
   "outputs": [
    {
     "data": {
      "text/html": [
       "<div>\n",
       "<style scoped>\n",
       "    .dataframe tbody tr th:only-of-type {\n",
       "        vertical-align: middle;\n",
       "    }\n",
       "\n",
       "    .dataframe tbody tr th {\n",
       "        vertical-align: top;\n",
       "    }\n",
       "\n",
       "    .dataframe thead th {\n",
       "        text-align: right;\n",
       "    }\n",
       "</style>\n",
       "<table border=\"1\" class=\"dataframe\">\n",
       "  <thead>\n",
       "    <tr style=\"text-align: right;\">\n",
       "      <th></th>\n",
       "      <th>text</th>\n",
       "      <th>label</th>\n",
       "    </tr>\n",
       "  </thead>\n",
       "  <tbody>\n",
       "    <tr>\n",
       "      <th>0</th>\n",
       "      <td>[Yes, folks, time, Manchester, United, got, ee...</td>\n",
       "      <td>hate</td>\n",
       "    </tr>\n",
       "    <tr>\n",
       "      <th>1</th>\n",
       "      <td>[What, INEOS, waiting, got, go, Aren, Arsenal,...</td>\n",
       "      <td>no-hate</td>\n",
       "    </tr>\n",
       "    <tr>\n",
       "      <th>2</th>\n",
       "      <td>[Saka, type, player, needs, team, Direct, purp...</td>\n",
       "      <td>no-hate</td>\n",
       "    </tr>\n",
       "    <tr>\n",
       "      <th>3</th>\n",
       "      <td>[No, They, steadily, rebuilding, squad]</td>\n",
       "      <td>no-hate</td>\n",
       "    </tr>\n",
       "    <tr>\n",
       "      <th>4</th>\n",
       "      <td>[London, Stadium, never, easy, game, proud, ch...</td>\n",
       "      <td>no-hate</td>\n",
       "    </tr>\n",
       "  </tbody>\n",
       "</table>\n",
       "</div>"
      ],
      "text/plain": [
       "                                                text    label\n",
       "0  [Yes, folks, time, Manchester, United, got, ee...     hate\n",
       "1  [What, INEOS, waiting, got, go, Aren, Arsenal,...  no-hate\n",
       "2  [Saka, type, player, needs, team, Direct, purp...  no-hate\n",
       "3            [No, They, steadily, rebuilding, squad]  no-hate\n",
       "4  [London, Stadium, never, easy, game, proud, ch...  no-hate"
      ]
     },
     "execution_count": 40,
     "metadata": {},
     "output_type": "execute_result"
    }
   ],
   "source": [
    "df.head()"
   ]
  },
  {
   "cell_type": "code",
   "execution_count": 41,
   "id": "c7f6da86",
   "metadata": {
    "execution": {
     "iopub.execute_input": "2021-08-24T16:51:13.428406Z",
     "iopub.status.busy": "2021-08-24T16:51:13.425339Z",
     "iopub.status.idle": "2021-08-24T16:51:13.432954Z",
     "shell.execute_reply": "2021-08-24T16:51:13.432369Z",
     "shell.execute_reply.started": "2021-08-24T16:47:14.514095Z"
    },
    "papermill": {
     "duration": 0.09769,
     "end_time": "2021-08-24T16:51:13.433111",
     "exception": false,
     "start_time": "2021-08-24T16:51:13.335421",
     "status": "completed"
    },
    "tags": []
   },
   "outputs": [
    {
     "data": {
      "text/plain": [
       "text     0\n",
       "label    0\n",
       "dtype: int64"
      ]
     },
     "execution_count": 41,
     "metadata": {},
     "output_type": "execute_result"
    }
   ],
   "source": [
    "#check for the null values\n",
    "df.isnull().sum()"
   ]
  },
  {
   "cell_type": "code",
   "execution_count": 42,
   "id": "2d8f0471",
   "metadata": {
    "execution": {
     "iopub.execute_input": "2021-08-24T16:51:13.609307Z",
     "iopub.status.busy": "2021-08-24T16:51:13.603876Z",
     "iopub.status.idle": "2021-08-24T16:51:13.638013Z",
     "shell.execute_reply": "2021-08-24T16:51:13.637450Z",
     "shell.execute_reply.started": "2021-08-24T16:47:14.536399Z"
    },
    "papermill": {
     "duration": 0.122495,
     "end_time": "2021-08-24T16:51:13.638221",
     "exception": false,
     "start_time": "2021-08-24T16:51:13.515726",
     "status": "completed"
    },
    "tags": []
   },
   "outputs": [],
   "source": [
    "#join the tokens back to form the string\n",
    "df['text'] = df['text'].apply(lambda x: ' '.join(x))"
   ]
  },
  {
   "cell_type": "code",
   "execution_count": 43,
   "id": "0f447c63",
   "metadata": {
    "execution": {
     "iopub.execute_input": "2021-08-24T16:51:13.813508Z",
     "iopub.status.busy": "2021-08-24T16:51:13.812577Z",
     "iopub.status.idle": "2021-08-24T16:51:13.817179Z",
     "shell.execute_reply": "2021-08-24T16:51:13.816576Z",
     "shell.execute_reply.started": "2021-08-24T16:47:14.575066Z"
    },
    "papermill": {
     "duration": 0.096785,
     "end_time": "2021-08-24T16:51:13.817330",
     "exception": false,
     "start_time": "2021-08-24T16:51:13.720545",
     "status": "completed"
    },
    "tags": []
   },
   "outputs": [
    {
     "data": {
      "text/html": [
       "<div>\n",
       "<style scoped>\n",
       "    .dataframe tbody tr th:only-of-type {\n",
       "        vertical-align: middle;\n",
       "    }\n",
       "\n",
       "    .dataframe tbody tr th {\n",
       "        vertical-align: top;\n",
       "    }\n",
       "\n",
       "    .dataframe thead th {\n",
       "        text-align: right;\n",
       "    }\n",
       "</style>\n",
       "<table border=\"1\" class=\"dataframe\">\n",
       "  <thead>\n",
       "    <tr style=\"text-align: right;\">\n",
       "      <th></th>\n",
       "      <th>text</th>\n",
       "      <th>label</th>\n",
       "    </tr>\n",
       "  </thead>\n",
       "  <tbody>\n",
       "    <tr>\n",
       "      <th>0</th>\n",
       "      <td>Yes folks time Manchester United got eelegated...</td>\n",
       "      <td>hate</td>\n",
       "    </tr>\n",
       "    <tr>\n",
       "      <th>1</th>\n",
       "      <td>What INEOS waiting got go Aren Arsenal title h...</td>\n",
       "      <td>no-hate</td>\n",
       "    </tr>\n",
       "    <tr>\n",
       "      <th>2</th>\n",
       "      <td>Saka type player needs team Direct purposeful</td>\n",
       "      <td>no-hate</td>\n",
       "    </tr>\n",
       "  </tbody>\n",
       "</table>\n",
       "</div>"
      ],
      "text/plain": [
       "                                                text    label\n",
       "0  Yes folks time Manchester United got eelegated...     hate\n",
       "1  What INEOS waiting got go Aren Arsenal title h...  no-hate\n",
       "2      Saka type player needs team Direct purposeful  no-hate"
      ]
     },
     "execution_count": 43,
     "metadata": {},
     "output_type": "execute_result"
    }
   ],
   "source": [
    "#check the top rows\n",
    "df.head(3)"
   ]
  },
  {
   "cell_type": "code",
   "execution_count": 44,
   "id": "a58ec912",
   "metadata": {
    "execution": {
     "iopub.execute_input": "2021-08-24T16:51:13.993423Z",
     "iopub.status.busy": "2021-08-24T16:51:13.992712Z",
     "iopub.status.idle": "2021-08-24T16:51:13.995822Z",
     "shell.execute_reply": "2021-08-24T16:51:13.995288Z",
     "shell.execute_reply.started": "2021-08-24T16:47:14.588210Z"
    },
    "papermill": {
     "duration": 0.093661,
     "end_time": "2021-08-24T16:51:13.995971",
     "exception": false,
     "start_time": "2021-08-24T16:51:13.902310",
     "status": "completed"
    },
    "tags": []
   },
   "outputs": [],
   "source": [
    "#split the data into input X and output y\n",
    "X = df['text']\n",
    "y = df['label']"
   ]
  },
  {
   "cell_type": "code",
   "execution_count": 45,
   "id": "efdf711c",
   "metadata": {
    "execution": {
     "iopub.execute_input": "2021-08-24T16:51:14.171970Z",
     "iopub.status.busy": "2021-08-24T16:51:14.171296Z",
     "iopub.status.idle": "2021-08-24T16:51:14.203393Z",
     "shell.execute_reply": "2021-08-24T16:51:14.202873Z",
     "shell.execute_reply.started": "2021-08-24T16:47:14.603150Z"
    },
    "papermill": {
     "duration": 0.122599,
     "end_time": "2021-08-24T16:51:14.203532",
     "exception": false,
     "start_time": "2021-08-24T16:51:14.080933",
     "status": "completed"
    },
    "tags": []
   },
   "outputs": [
    {
     "name": "stdout",
     "output_type": "stream",
     "text": [
      "(2718,) (680,) (2718,) (680,)\n"
     ]
    }
   ],
   "source": [
    "#split the data \n",
    "from sklearn.model_selection import train_test_split\n",
    "seed = 51\n",
    "test_size = 0.2 #20% of the data in the \n",
    "X_train,X_test,y_train,y_test = train_test_split(X,y,test_size=0.2,random_state=seed,stratify=df['label'])\n",
    "print(X_train.shape,X_test.shape,y_train.shape,y_test.shape)"
   ]
  },
  {
   "cell_type": "code",
   "execution_count": 57,
   "id": "b5a03ee1",
   "metadata": {},
   "outputs": [
    {
     "name": "stdout",
     "output_type": "stream",
     "text": [
      "Jumlah data latih: 2718\n",
      "Jumlah data uji: 680\n"
     ]
    }
   ],
   "source": [
    "from sklearn.model_selection import train_test_split\n",
    "\n",
    "# Pembagian data\n",
    "X_train, X_test, y_train, y_test = train_test_split(X, y, test_size=0.2, random_state=42)\n",
    "\n",
    "# Verifikasi jumlah data\n",
    "print(f\"Jumlah data latih: {len(X_train)}\")  # Harus sekitar 2720\n",
    "print(f\"Jumlah data uji: {len(X_test)}\")    # Harus sekitar 680\n"
   ]
  },
  {
   "cell_type": "markdown",
   "id": "ce9c2a3b",
   "metadata": {
    "papermill": {
     "duration": 0.082018,
     "end_time": "2021-08-24T16:51:14.370235",
     "exception": false,
     "start_time": "2021-08-24T16:51:14.288217",
     "status": "completed"
    },
    "tags": []
   },
   "source": [
    "<a id='4-2'></a>\n",
    "### _Use tf-idf as a feature to get into the vector space model_\n"
   ]
  },
  {
   "cell_type": "code",
   "execution_count": 46,
   "id": "321a7897",
   "metadata": {
    "execution": {
     "iopub.execute_input": "2021-08-24T16:51:14.537586Z",
     "iopub.status.busy": "2021-08-24T16:51:14.536583Z",
     "iopub.status.idle": "2021-08-24T16:51:14.538916Z",
     "shell.execute_reply": "2021-08-24T16:51:14.539342Z",
     "shell.execute_reply.started": "2021-08-24T16:47:14.637052Z"
    },
    "papermill": {
     "duration": 0.088048,
     "end_time": "2021-08-24T16:51:14.539504",
     "exception": false,
     "start_time": "2021-08-24T16:51:14.451456",
     "status": "completed"
    },
    "tags": []
   },
   "outputs": [],
   "source": [
    "#import tfidf vectorizer\n",
    "from sklearn.feature_extraction.text import TfidfVectorizer\n",
    "from sklearn.feature_extraction.text import TfidfTransformer"
   ]
  },
  {
   "cell_type": "code",
   "execution_count": 47,
   "id": "64f95100",
   "metadata": {
    "execution": {
     "iopub.execute_input": "2021-08-24T16:51:14.705129Z",
     "iopub.status.busy": "2021-08-24T16:51:14.704147Z",
     "iopub.status.idle": "2021-08-24T16:51:14.708711Z",
     "shell.execute_reply": "2021-08-24T16:51:14.708168Z",
     "shell.execute_reply.started": "2021-08-24T16:47:14.643206Z"
    },
    "papermill": {
     "duration": 0.088383,
     "end_time": "2021-08-24T16:51:14.708858",
     "exception": false,
     "start_time": "2021-08-24T16:51:14.620475",
     "status": "completed"
    },
    "tags": []
   },
   "outputs": [],
   "source": [
    "#instantiate the vectorizer \n",
    "vectorizer = TfidfVectorizer(max_features=5000)"
   ]
  },
  {
   "cell_type": "code",
   "execution_count": 48,
   "id": "8345ee8b",
   "metadata": {
    "execution": {
     "iopub.execute_input": "2021-08-24T16:51:14.875576Z",
     "iopub.status.busy": "2021-08-24T16:51:14.874953Z",
     "iopub.status.idle": "2021-08-24T16:51:15.452086Z",
     "shell.execute_reply": "2021-08-24T16:51:15.451383Z",
     "shell.execute_reply.started": "2021-08-24T16:47:14.656362Z"
    },
    "papermill": {
     "duration": 0.662141,
     "end_time": "2021-08-24T16:51:15.452235",
     "exception": false,
     "start_time": "2021-08-24T16:51:14.790094",
     "status": "completed"
    },
    "tags": []
   },
   "outputs": [],
   "source": [
    "#fit on the training data\n",
    "X_train = vectorizer.fit_transform(X_train)\n",
    "#transform the test data\n",
    "X_test = vectorizer.transform(X_test)"
   ]
  },
  {
   "cell_type": "code",
   "execution_count": 49,
   "id": "0a8228d2",
   "metadata": {
    "execution": {
     "iopub.execute_input": "2021-08-24T16:51:15.619728Z",
     "iopub.status.busy": "2021-08-24T16:51:15.618991Z",
     "iopub.status.idle": "2021-08-24T16:51:15.623159Z",
     "shell.execute_reply": "2021-08-24T16:51:15.622678Z",
     "shell.execute_reply.started": "2021-08-24T16:47:15.092635Z"
    },
    "papermill": {
     "duration": 0.089819,
     "end_time": "2021-08-24T16:51:15.623296",
     "exception": false,
     "start_time": "2021-08-24T16:51:15.533477",
     "status": "completed"
    },
    "tags": []
   },
   "outputs": [
    {
     "data": {
      "text/plain": [
       "((2718, 2630), (680, 2630))"
      ]
     },
     "execution_count": 49,
     "metadata": {},
     "output_type": "execute_result"
    }
   ],
   "source": [
    "#check the shape\n",
    "X_train.shape, X_test.shape"
   ]
  },
  {
   "cell_type": "code",
   "execution_count": 54,
   "id": "00fa0473",
   "metadata": {},
   "outputs": [
    {
     "name": "stdout",
     "output_type": "stream",
     "text": [
      "Confusion Matrix:\n",
      "[[358  22]\n",
      " [  0 300]]\n"
     ]
    },
    {
     "data": {
      "image/png": "[encoded data removed]",
      "text/plain": [
       "<Figure size 1200x500 with 2 Axes>"
      ]
     },
     "metadata": {},
     "output_type": "display_data"
    },
    {
     "name": "stdout",
     "output_type": "stream",
     "text": [
      "\n",
      "Classification Report:\n",
      "              precision    recall  f1-score   support\n",
      "\n",
      "        hate       1.00      0.94      0.97       380\n",
      "     no-hate       0.93      1.00      0.96       300\n",
      "\n",
      "    accuracy                           0.97       680\n",
      "   macro avg       0.97      0.97      0.97       680\n",
      "weighted avg       0.97      0.97      0.97       680\n",
      "\n",
      "Accuracy: 0.9676470588235294\n"
     ]
    }
   ],
   "source": [
    "from sklearn.linear_model import LogisticRegression\n",
    "from sklearn.metrics import confusion_matrix, classification_report\n",
    "import matplotlib.pyplot as plt\n",
    "from sklearn.metrics import ConfusionMatrixDisplay\n",
    "\n",
    "# Melatih model Logistic Regression\n",
    "classifier = LogisticRegression()\n",
    "classifier.fit(X_train, y_train)\n",
    "\n",
    "# Evaluasi model\n",
    "y_pred = classifier.predict(X_test)\n",
    "\n",
    "# Mencetak confusion matrix\n",
    "conf_matrix = confusion_matrix(y_test, y_pred)\n",
    "print(\"Confusion Matrix:\")\n",
    "print(conf_matrix)\n",
    "\n",
    "# Visualisasi confusion matrix\n",
    "ConfusionMatrixDisplay.from_predictions(y_test, y_pred, cmap=plt.cm.Blues)\n",
    "plt.title('Confusion Matrix')\n",
    "plt.show()\n",
    "\n",
    "# Optional: Jika ingin laporan klasifikasi\n",
    "print(\"\\nClassification Report:\")\n",
    "print(classification_report(y_test, y_pred))\n",
    "\n",
    "score = classifier.score(X_test, y_test)\n",
    "print('Accuracy:', score)"
   ]
  },
  {
   "cell_type": "markdown",
   "id": "88d048b3",
   "metadata": {
    "papermill": {
     "duration": 0.080812,
     "end_time": "2021-08-24T16:51:15.785277",
     "exception": false,
     "start_time": "2021-08-24T16:51:15.704465",
     "status": "completed"
    },
    "tags": []
   },
   "source": [
    "<a id='4-3'></a>\n",
    "### _Model building: Ordinary Logistic Regression_"
   ]
  },
  {
   "cell_type": "code",
   "execution_count": null,
   "id": "ab20d6e6",
   "metadata": {},
   "outputs": [],
   "source": []
  }
 ],
 "metadata": {
  "kernelspec": {
   "display_name": "Python 3",
   "language": "python",
   "name": "python3"
  },
  "language_info": {
   "codemirror_mode": {
    "name": "ipython",
    "version": 3
   },
   "file_extension": ".py",
   "mimetype": "text/x-python",
   "name": "python",
   "nbconvert_exporter": "python",
   "pygments_lexer": "ipython3",
   "version": "3.11.9"
  },
  "papermill": {
   "default_parameters": {},
   "duration": 94.922338,
   "end_time": "2021-08-24T16:51:52.203071",
   "environment_variables": {},
   "exception": null,
   "input_path": "__notebook__.ipynb",
   "output_path": "__notebook__.ipynb",
   "parameters": {},
   "start_time": "2021-08-24T16:50:17.280733",
   "version": "2.3.3"
  }
 },
 "nbformat": 4,
 "nbformat_minor": 5
}
