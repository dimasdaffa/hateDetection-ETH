{
 "cells": [
  {
   "cell_type": "markdown",
   "id": "d61e42a3",
   "metadata": {},
   "source": [
    "# Logistic Regression for Hate Speech Detection"
   ]
  },
  {
   "cell_type": "markdown",
   "id": "573858f3",
   "metadata": {},
   "source": [
    "This notebook demonstrates preprocessing, training, and evaluation of a Logistic Regression model for hate speech detection."
   ]
  },
  {
   "cell_type": "code",
   "execution_count": 1,
   "id": "7d5c9172",
   "metadata": {},
   "outputs": [],
   "source": [
    "\n",
    "# Import libraries\n",
    "import pandas as pd\n",
    "import re\n",
    "from sklearn.model_selection import train_test_split\n",
    "from sklearn.feature_extraction.text import TfidfVectorizer\n",
    "from sklearn.linear_model import LogisticRegression\n",
    "from sklearn.metrics import classification_report, accuracy_score, confusion_matrix\n",
    "import seaborn as sns\n",
    "import matplotlib.pyplot as plt\n"
   ]
  },
  {
   "cell_type": "markdown",
   "id": "6b683bc2",
   "metadata": {},
   "source": [
    "## Step 1: Load and Preprocess Data"
   ]
  },
  {
   "cell_type": "code",
   "execution_count": 2,
   "id": "c490ae77",
   "metadata": {},
   "outputs": [],
   "source": [
    "\n",
    "# Load the dataset (replace 'Oversampled_Tweet_Dataset.csv' with your actual file path)\n",
    "data = pd.read_csv('Oversampled_Tweet_Dataset.csv')\n",
    "\n",
    "# Function to clean text data\n",
    "def preprocess_text(text):\n",
    "    text = re.sub(r'http\\S+', '', text)  # Remove URLs\n",
    "    text = re.sub(r'[^A-Za-z\\s]', '', text)  # Remove special characters and numbers\n",
    "    text = text.lower()  # Convert to lowercase\n",
    "    text = text.strip()  # Remove leading/trailing spaces\n",
    "    return text\n",
    "\n",
    "# Apply preprocessing\n",
    "data['cleaned_text'] = data['text'].apply(preprocess_text)\n",
    "\n",
    "# Map labels to binary values ('no-hate' -> 0, 'hate' -> 1)\n",
    "data['label'] = data['label'].map({'no-hate': 0, 'hate': 1})\n"
   ]
  },
  {
   "cell_type": "markdown",
   "id": "fe570105",
   "metadata": {},
   "source": [
    "## Step 2: TF-IDF Vectorization"
   ]
  },
  {
   "cell_type": "code",
   "execution_count": null,
   "id": "549610f2",
   "metadata": {},
   "outputs": [],
   "source": [
    "\n",
    "# Convert the cleaned text into TF-IDF vectors\n",
    "tfidf_vectorizer = TfidfVectorizer(max_features=5000)  # Limit to 5000 most important features\n",
    "X = tfidf_vectorizer.fit_transform(data['cleaned_text'])  # Features\n",
    "y = data['label']  # Labels\n"
   ]
  },
  {
   "cell_type": "markdown",
   "id": "aac0379c",
   "metadata": {},
   "source": [
    "## Step 3: Split Data into Training and Testing Sets"
   ]
  },
  {
   "cell_type": "code",
   "execution_count": null,
   "id": "86a6e15b",
   "metadata": {},
   "outputs": [],
   "source": [
    "\n",
    "# Split data into training and testing sets\n",
    "X_train, X_test, y_train, y_test = train_test_split(X, y, test_size=0.2, random_state=42, stratify=y)\n"
   ]
  },
  {
   "cell_type": "markdown",
   "id": "fec8897d",
   "metadata": {},
   "source": [
    "## Step 4: Train Logistic Regression Model"
   ]
  },
  {
   "cell_type": "code",
   "execution_count": null,
   "id": "a2da46d8",
   "metadata": {},
   "outputs": [],
   "source": [
    "\n",
    "# Train a Logistic Regression model\n",
    "model_lr = LogisticRegression(max_iter=1000, random_state=42)  # Logistic Regression\n",
    "model_lr.fit(X_train, y_train)  # Train the model\n"
   ]
  },
  {
   "cell_type": "markdown",
   "id": "b82d642e",
   "metadata": {},
   "source": [
    "## Step 5: Evaluate the Model"
   ]
  },
  {
   "cell_type": "code",
   "execution_count": null,
   "id": "d7af5698",
   "metadata": {},
   "outputs": [],
   "source": [
    "\n",
    "# Predict on test data\n",
    "y_pred = model_lr.predict(X_test)\n",
    "\n",
    "# Accuracy\n",
    "accuracy = accuracy_score(y_test, y_pred)\n",
    "print(f\"Accuracy: {accuracy * 100:.2f}%\")\n",
    "\n",
    "# Classification Report\n",
    "print(\"\\nClassification Report:\")\n",
    "print(classification_report(y_test, y_pred, target_names=['no-hate', 'hate']))\n",
    "\n",
    "# Confusion Matrix\n",
    "print(\"\\nConfusion Matrix:\")\n",
    "conf_matrix = confusion_matrix(y_test, y_pred)\n",
    "print(conf_matrix)\n",
    "\n",
    "# (Optional) Visualization of Confusion Matrix\n",
    "plt.figure(figsize=(6, 6))\n",
    "sns.heatmap(conf_matrix, annot=True, fmt='d', cmap='Blues', xticklabels=['no-hate', 'hate'], yticklabels=['no-hate', 'hate'])\n",
    "plt.title('Confusion Matrix for Logistic Regression')\n",
    "plt.xlabel('Predicted')\n",
    "plt.ylabel('Actual')\n",
    "plt.show()\n"
   ]
  }
 ],
 "metadata": {
  "kernelspec": {
   "display_name": "Python 3",
   "language": "python",
   "name": "python3"
  },
  "language_info": {
   "codemirror_mode": {
    "name": "ipython",
    "version": 3
   },
   "file_extension": ".py",
   "mimetype": "text/x-python",
   "name": "python",
   "nbconvert_exporter": "python",
   "pygments_lexer": "ipython3",
   "version": "3.11.9"
  }
 },
 "nbformat": 4,
 "nbformat_minor": 5
}
