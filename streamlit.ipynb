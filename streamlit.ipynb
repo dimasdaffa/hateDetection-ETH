{
 "cells": [
  {
   "cell_type": "code",
   "execution_count": 1,
   "metadata": {},
   "outputs": [
    {
     "ename": "ModuleNotFoundError",
     "evalue": "No module named 'streamlit'",
     "output_type": "error",
     "traceback": [
      "\u001b[1;31m---------------------------------------------------------------------------\u001b[0m",
      "\u001b[1;31mModuleNotFoundError\u001b[0m                       Traceback (most recent call last)",
      "Cell \u001b[1;32mIn[1], line 1\u001b[0m\n\u001b[1;32m----> 1\u001b[0m \u001b[38;5;28;01mimport\u001b[39;00m \u001b[38;5;21;01mstreamlit\u001b[39;00m \u001b[38;5;28;01mas\u001b[39;00m \u001b[38;5;21;01mst\u001b[39;00m\n\u001b[0;32m      2\u001b[0m \u001b[38;5;28;01mimport\u001b[39;00m \u001b[38;5;21;01mjoblib\u001b[39;00m\n\u001b[0;32m      3\u001b[0m \u001b[38;5;28;01mimport\u001b[39;00m \u001b[38;5;21;01mre\u001b[39;00m\n",
      "\u001b[1;31mModuleNotFoundError\u001b[0m: No module named 'streamlit'"
     ]
    }
   ],
   "source": [
    "import streamlit as st\n",
    "import joblib\n",
    "import re\n",
    "\n",
    "# Load the saved model and vectorizer\n",
    "loaded_model = joblib.load('logistic_reg_model.pkl')\n",
    "loaded_vectorizer = joblib.load('tfidf_vectorizer.pkl')\n",
    "\n",
    "# Fungsi untuk memproses teks\n",
    "def preprocess_text_input(text):\n",
    "    text = re.sub(r'http\\S+', '', text)  # Menghapus URL\n",
    "    text = re.sub(r'[^A-Za-z\\s]', '', text)  # Menghapus karakter khusus dan angka\n",
    "    text = text.lower()  # Mengubah teks menjadi huruf kecil\n",
    "    text = text.strip()  # Menghapus spasi di awal/akhir teks\n",
    "    return text\n",
    "\n",
    "# Streamlit UI\n",
    "st.title('Hate Speech Detection')\n",
    "\n",
    "st.write('Masukkan teks untuk menganalisis apakah itu Hate Speech atau tidak.')\n",
    "\n",
    "# Input teks dari pengguna\n",
    "new_text = st.text_area(\"Teks yang ingin dianalisis:\")\n",
    "\n",
    "if st.button('Prediksi'):\n",
    "    if new_text:\n",
    "        # Memproses teks\n",
    "        processed_text = preprocess_text_input(new_text)\n",
    "\n",
    "        # Mengubah teks menjadi vektor menggunakan TF-IDF Vectorizer yang telah diload\n",
    "        vectorized_text = loaded_vectorizer.transform([processed_text])\n",
    "\n",
    "        # Melakukan prediksi menggunakan model yang telah diload\n",
    "        prediction = loaded_model.predict(vectorized_text)\n",
    "\n",
    "        # Menampilkan hasil prediksi\n",
    "        if prediction[0] == 1:\n",
    "            st.write(\"Hasil: Hate Speech\")\n",
    "        else:\n",
    "            st.write(\"Hasil: Not Hate Speech\")\n",
    "    else:\n",
    "        st.write(\"Masukkan teks terlebih dahulu.\")\n"
   ]
  },
  {
   "cell_type": "code",
   "execution_count": null,
   "metadata": {},
   "outputs": [],
   "source": []
  }
 ],
 "metadata": {
  "kernelspec": {
   "display_name": "Python 3",
   "language": "python",
   "name": "python3"
  },
  "language_info": {
   "codemirror_mode": {
    "name": "ipython",
    "version": 3
   },
   "file_extension": ".py",
   "mimetype": "text/x-python",
   "name": "python",
   "nbconvert_exporter": "python",
   "pygments_lexer": "ipython3",
   "version": "3.11.9"
  }
 },
 "nbformat": 4,
 "nbformat_minor": 2
}
