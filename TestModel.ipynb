{
 "cells": [
  {
   "cell_type": "code",
   "execution_count": 2,
   "metadata": {},
   "outputs": [],
   "source": [
    "import joblib\n",
    "\n",
    "# Load the saved model and vectorizer\n",
    "loaded_model = joblib.load('logistic_regression_model.pkl')\n",
    "loaded_vectorizer = joblib.load('tfidf_vectorizer.pkl')"
   ]
  },
  {
   "cell_type": "code",
   "execution_count": 4,
   "metadata": {},
   "outputs": [
    {
     "name": "stdout",
     "output_type": "stream",
     "text": [
      "Hate Speech\n"
     ]
    }
   ],
   "source": [
    "import re\n",
    "\n",
    "# Function to preprocess text\n",
    "def preprocess_text_input(text):\n",
    "    text = re.sub(r'http\\S+', '', text)  # Remove URLs\n",
    "    text = re.sub(r'[^A-Za-z\\s]', '', text)  # Remove special characters and numbers\n",
    "    text = text.lower()  # Convert to lowercase\n",
    "    text = text.strip()  # Remove leading/trailing spaces\n",
    "    return text\n",
    "\n",
    "# Input new text\n",
    "new_text = \"Erik Ten Hag is the worst coach ever!\"  # Example input\n",
    "processed_text = preprocess_text_input(new_text)\n",
    "\n",
    "# Transform the text using the loaded TF-IDF Vectorizer\n",
    "vectorized_text = loaded_vectorizer.transform([processed_text])\n",
    "\n",
    "# Predict using the loaded model\n",
    "prediction = loaded_model.predict(vectorized_text)\n",
    "\n",
    "# Output prediction\n",
    "if prediction[0] == 1:\n",
    "    print(\"Hate Speech\")\n",
    "else:\n",
    "    print(\"Not Hate Speech\")\n"
   ]
  }
 ],
 "metadata": {
  "kernelspec": {
   "display_name": "Python 3",
   "language": "python",
   "name": "python3"
  },
  "language_info": {
   "codemirror_mode": {
    "name": "ipython",
    "version": 3
   },
   "file_extension": ".py",
   "mimetype": "text/x-python",
   "name": "python",
   "nbconvert_exporter": "python",
   "pygments_lexer": "ipython3",
   "version": "3.11.9"
  }
 },
 "nbformat": 4,
 "nbformat_minor": 2
}
