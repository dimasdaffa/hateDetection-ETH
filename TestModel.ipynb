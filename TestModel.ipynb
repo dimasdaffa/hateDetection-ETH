{
 "cells": [
  {
   "cell_type": "code",
   "execution_count": 2,
   "metadata": {},
   "outputs": [],
   "source": [
    "\n",
    "import joblib\n",
    "\n",
    "# Load the saved model and vectorizer\n",
    "loaded_model = joblib.load('logistic_regression_model.pkl')\n",
    "loaded_vectorizer = joblib.load('tfidf_vectorizer.pkl')"
   ]
  },
  {
   "cell_type": "code",
   "execution_count": 10,
   "metadata": {},
   "outputs": [
    {
     "name": "stdout",
     "output_type": "stream",
     "text": [
      "Hate Speech\n"
     ]
    }
   ],
   "source": [
    "import re\n",
    "\n",
    "# Fungsi untuk memproses teks\n",
    "def preprocess_text_input(text):\n",
    "    text = re.sub(r'http\\S+', '', text)  # Menghapus URL\n",
    "    text = re.sub(r'[^A-Za-z\\s]', '', text)  # Menghapus karakter khusus dan angka\n",
    "    text = text.lower()  # Mengubah teks menjadi huruf kecil\n",
    "    text = text.strip()  # Menghapus spasi di awal/akhir teks\n",
    "    return text\n",
    "\n",
    "# Input teks baru\n",
    "new_text = \"Erik Ten Hag is worst ever MU manager!\"  # Contoh input\n",
    "processed_text = preprocess_text_input(new_text)\n",
    "\n",
    "# Mengubah teks menjadi vektor menggunakan TF-IDF Vectorizer yang telah diload\n",
    "vectorized_text = loaded_vectorizer.transform([processed_text])\n",
    "\n",
    "# Melakukan prediksi menggunakan model yang telah diload\n",
    "prediction = loaded_model.predict(vectorized_text)\n",
    "\n",
    "# Menampilkan hasil prediksi\n",
    "if prediction[0] == 1:\n",
    "    print(\"Hate Speech\")  # Jika prediksi adalah 1\n",
    "else:\n",
    "    print(\"Not Hate Speech\")  # Jika prediksi adalah 0\n"
   ]
  }
 ],
 "metadata": {
  "kernelspec": {
   "display_name": "Python 3",
   "language": "python",
   "name": "python3"
  },
  "language_info": {
   "codemirror_mode": {
    "name": "ipython",
    "version": 3
   },
   "file_extension": ".py",
   "mimetype": "text/x-python",
   "name": "python",
   "nbconvert_exporter": "python",
   "pygments_lexer": "ipython3",
   "version": "3.11.9"
  }
 },
 "nbformat": 4,
 "nbformat_minor": 2
}
